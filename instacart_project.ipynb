{
 "cells": [
  {
   "cell_type": "markdown",
   "id": "3Xg_RQfnafXz",
   "metadata": {
    "id": "3Xg_RQfnafXz"
   },
   "source": [
    "# InstaCart - Fill That Cart!"
   ]
  },
  {
   "cell_type": "markdown",
   "id": "mhIvmmkW414q",
   "metadata": {
    "id": "mhIvmmkW414q"
   },
   "source": [
    "## Introduction\n",
    "\n",
    "Instacart is a grocery delivery platform that allows me to place orders and have them delivered to my doorstep, similar to services like Uber Eats and DoorDash. The dataset I have been provided has been adjusted from its original version. The size of the dataset was reduced to facilitate faster calculations, and missing values and duplicates were introduced. These modifications were carefully made to preserve the original data distributions."
   ]
  },
  {
   "cell_type": "markdown",
   "id": "3MbyzpOQZ5Or",
   "metadata": {
    "id": "3MbyzpOQZ5Or"
   },
   "source": [
    "## Data Dictionary\n",
    "\n",
    "There are five tables in the dataset, and I will need to use all of them for data preprocessing and exploratory data analysis. Below is a data dictionary that lists the columns of each table and describes the data they contain.\n",
    "\n",
    "- instacart_orders.csv: Each row corresponds to an order in the Instacart application.\n",
    "    - `'order_id'`: Unique ID number identifying each order.\n",
    "    - `'user_id'`: Unique ID number identifying each customer's account.\n",
    "    - `'order_number'`: The number of times this customer has placed an order.\n",
    "    - `'order_dow'`: Day of the week the order was placed (0 if Sunday).\n",
    "    - `'order_hour_of_day'`: Hour of the day the order was placed.\n",
    "    - `'days_since_prior_order'`: Number of days since this customer placed their previous order.\n",
    "\n",
    "- products.csv: Each row corresponds to a unique product that customers can purchase.\n",
    "    - `'product_id'`: Unique ID number identifying each product.\n",
    "    - `'product_name'`: Name of the product.\n",
    "    - `'aisle_id'`: Unique ID number identifying each grocery aisle category.\n",
    "    - `'department_id'`: Unique ID number identifying each grocery department.\n",
    "\n",
    "- order_products.csv: Each row corresponds to an item ordered in an order.\n",
    "    - `'order_id'`: Unique ID number identifying each order.\n",
    "    - `'product_id'`: Unique ID number identifying each product.\n",
    "    - `'add_to_cart_order'`: The sequential order in which each item was added to the cart.\n",
    "    - `'reordered'`: 0 if the customer has never ordered this product before, 1 if they have ordered it.\n",
    "\n",
    "- aisles.csv\n",
    "    - `'aisle_id'`: Unique ID number identifying each grocery aisle category.\n",
    "    - `'aisle'`: Name of the aisle.\n",
    "\n",
    "- departments.csv\n",
    "    - `'department_id'`: Unique ID number identifying each grocery department.\n",
    "    - `'department'`: Name of the department."
   ]
  },
  {
   "cell_type": "markdown",
   "id": "n3Ha_cNSZ8lK",
   "metadata": {
    "id": "n3Ha_cNSZ8lK"
   },
   "source": [
    "## Step 1. Data Description\n",
    "\n",
    "To begin, we start by importing the libraries which will be the base for this project.\n",
    "\n",
    "After that, I'm going to read the data files using the pd.read_csv() function in Python. After loading the data, I will verify the information for each DataFrame to ensure they have been read correctly and to understand the structure and content of each dataset."
   ]
  },
  {
   "cell_type": "code",
   "execution_count": 1,
   "id": "fbf1adab",
   "metadata": {
    "id": "fbf1adab"
   },
   "outputs": [],
   "source": [
    "import pandas as pd\n",
    "import matplotlib.pyplot as plt"
   ]
  },
  {
   "cell_type": "code",
   "execution_count": 2,
   "id": "ab58dc19",
   "metadata": {},
   "outputs": [],
   "source": [
    "# Loading Datasets and Storing in Variables\n",
    "\n",
    "instacart_orders_df = pd.read_csv('https://practicum-content.s3.us-west-1.amazonaws.com/new-markets/Data_Refactored_2_sprint/datasets/instacart_orders.csv')\n",
    "products_df = pd.read_csv('https://practicum-content.s3.us-west-1.amazonaws.com/new-markets/Data_Refactored_2_sprint/datasets/products.csv')\n",
    "order_products_df = pd.read_csv('https://practicum-content.s3.us-west-1.amazonaws.com/new-markets/Data_Refactored_2_sprint/order_products.csv.zip')\n",
    "aisles_df = pd.read_csv('https://practicum-content.s3.us-west-1.amazonaws.com/new-markets/Data_Refactored_2_sprint/datasets/aisles.csv')\n",
    "departments_df = pd.read_csv('https://practicum-content.s3.us-west-1.amazonaws.com/new-markets/Data_Refactored_2_sprint/datasets/departments.csv')"
   ]
  },
  {
   "cell_type": "markdown",
   "id": "cb997dff",
   "metadata": {},
   "source": [
    "To understand exactly what each dataset contains, I will print the first few rows of each DataFrame. This step will help me verify that the data has been imported correctly and provide a clear view of the structure and contents of each dataset."
   ]
  },
  {
   "cell_type": "code",
   "execution_count": 3,
   "id": "ad36396d",
   "metadata": {
    "id": "ad36396d",
    "scrolled": true
   },
   "outputs": [
    {
     "name": "stdout",
     "output_type": "stream",
     "text": [
      "Instacart Oders\n",
      "\n",
      "  order_id;user_id;order_number;order_dow;order_hour_of_day;days_since_prior_order\n",
      "0                        1515936;183418;11;6;13;30.0                              \n",
      "1                          1690866;163593;5;5;12;9.0                              \n",
      "2                           1454967;39980;4;5;19;2.0                              \n",
      "----------------------------------------------------------------------------------------------------\n",
      "Products\n",
      "\n",
      "  product_id;product_name;aisle_id;department_id\n",
      "0             1;Chocolate Sandwich Cookies;61;19\n",
      "1                      2;All-Seasons Salt;104;13\n",
      "2    3;Robust Golden Unsweetened Oolong Tea;94;7\n",
      "----------------------------------------------------------------------------------------------------\n",
      "Order Products\n",
      "\n",
      "  order_id;product_id;add_to_cart_order;reordered\n",
      "0                            2141543;11440;17.0;0\n",
      "1                               567889;1560;1.0;1\n",
      "2                             2261212;26683;1.0;1\n",
      "----------------------------------------------------------------------------------------------------\n",
      "Aisles\n",
      "\n",
      "            aisle_id;aisle\n",
      "0  1;prepared soups salads\n",
      "1      2;specialty cheeses\n",
      "2    3;energy granola bars\n",
      "----------------------------------------------------------------------------------------------------\n",
      "Departments\n",
      "\n",
      "  department_id;department\n",
      "0                 1;frozen\n",
      "1                  2;other\n",
      "2                 3;bakery\n",
      "----------------------------------------------------------------------------------------------------\n"
     ]
    }
   ],
   "source": [
    "# Instacart Orders\n",
    "print('Instacart Oders')\n",
    "print()\n",
    "print(instacart_orders_df.head(3))\n",
    "print('-' * 100)\n",
    "\n",
    "# Products\n",
    "print('Products')\n",
    "print()\n",
    "print(products_df.head(3))\n",
    "print('-' * 100)\n",
    "\n",
    "# Order Products\n",
    "print('Order Products')\n",
    "print()\n",
    "print(order_products_df.head(3))\n",
    "print('-' * 100)\n",
    "\n",
    "# Aisles\n",
    "print('Aisles')\n",
    "print()\n",
    "print(aisles_df.head(3))\n",
    "print('-' * 100)\n",
    "\n",
    "# Departments\n",
    "print('Departments')\n",
    "print()\n",
    "print(departments_df.head(3))\n",
    "print('-' * 100)"
   ]
  },
  {
   "cell_type": "markdown",
   "id": "b3db1fe1",
   "metadata": {},
   "source": [
    "Also, I will proceed to print the <b>information</b> of each DataFrame:"
   ]
  },
  {
   "cell_type": "code",
   "execution_count": 4,
   "id": "ad6a1efa",
   "metadata": {
    "id": "ad6a1efa"
   },
   "outputs": [
    {
     "name": "stdout",
     "output_type": "stream",
     "text": [
      "----------------------------------------------------------------------------------------------------\n",
      "Instacart Orders:\n",
      "\n",
      "<class 'pandas.core.frame.DataFrame'>\n",
      "RangeIndex: 478967 entries, 0 to 478966\n",
      "Data columns (total 1 columns):\n",
      " #   Column                                                                            Non-Null Count   Dtype \n",
      "---  ------                                                                            --------------   ----- \n",
      " 0   order_id;user_id;order_number;order_dow;order_hour_of_day;days_since_prior_order  478967 non-null  object\n",
      "dtypes: object(1)\n",
      "memory usage: 3.7+ MB\n",
      "None\n",
      "----------------------------------------------------------------------------------------------------\n",
      "Product:\n",
      "\n",
      "<class 'pandas.core.frame.DataFrame'>\n",
      "RangeIndex: 49694 entries, 0 to 49693\n",
      "Data columns (total 1 columns):\n",
      " #   Column                                          Non-Null Count  Dtype \n",
      "---  ------                                          --------------  ----- \n",
      " 0   product_id;product_name;aisle_id;department_id  49694 non-null  object\n",
      "dtypes: object(1)\n",
      "memory usage: 388.4+ KB\n",
      "None\n",
      "----------------------------------------------------------------------------------------------------\n",
      "Order Product:\n",
      "\n",
      "<class 'pandas.core.frame.DataFrame'>\n",
      "RangeIndex: 4545007 entries, 0 to 4545006\n",
      "Data columns (total 1 columns):\n",
      " #   Column                                           Dtype \n",
      "---  ------                                           ----- \n",
      " 0   order_id;product_id;add_to_cart_order;reordered  object\n",
      "dtypes: object(1)\n",
      "memory usage: 34.7+ MB\n",
      "None\n",
      "----------------------------------------------------------------------------------------------------\n",
      "Aisles:\n",
      "\n",
      "<class 'pandas.core.frame.DataFrame'>\n",
      "RangeIndex: 134 entries, 0 to 133\n",
      "Data columns (total 1 columns):\n",
      " #   Column          Non-Null Count  Dtype \n",
      "---  ------          --------------  ----- \n",
      " 0   aisle_id;aisle  134 non-null    object\n",
      "dtypes: object(1)\n",
      "memory usage: 1.2+ KB\n",
      "None\n",
      "----------------------------------------------------------------------------------------------------\n",
      "Departments:\n",
      "\n",
      "<class 'pandas.core.frame.DataFrame'>\n",
      "RangeIndex: 21 entries, 0 to 20\n",
      "Data columns (total 1 columns):\n",
      " #   Column                    Non-Null Count  Dtype \n",
      "---  ------                    --------------  ----- \n",
      " 0   department_id;department  21 non-null     object\n",
      "dtypes: object(1)\n",
      "memory usage: 300.0+ bytes\n",
      "None\n",
      "----------------------------------------------------------------------------------------------------\n"
     ]
    }
   ],
   "source": [
    "# Instacart Orders\n",
    "print('-' * 100)\n",
    "print(\"Instacart Orders:\")\n",
    "print()\n",
    "print(instacart_orders_df.info())\n",
    "print('-' * 100)\n",
    "\n",
    "# Product\n",
    "print(\"Product:\")\n",
    "print()\n",
    "print(products_df.info())\n",
    "print('-' * 100)\n",
    "\n",
    "# Order Product\n",
    "print(\"Order Product:\")\n",
    "print()\n",
    "print(order_products_df.info())\n",
    "print('-' * 100)\n",
    "\n",
    "# Aisles\n",
    "print(\"Aisles:\")\n",
    "print()\n",
    "print(aisles_df.info())\n",
    "print('-' * 100)\n",
    "\n",
    "# Departments\n",
    "print(\"Departments:\")\n",
    "print()\n",
    "print(departments_df.info())\n",
    "print('-' * 100)\n"
   ]
  },
  {
   "cell_type": "markdown",
   "id": "225c15c1",
   "metadata": {},
   "source": [
    "<b>Observations:</b>\n",
    "\n",
    "1.- <b>Incorrect Delimiters:</b>\n",
    "\n",
    "First and foremost, the data in the DataFrames is incorrectly delimited, as all columns are being interpreted as a single column instead of the multiple expected columns. In fact, a preliminary review was conducted with each CSV file in Excel (except for the order_products dataset, which contains over 4 million records), confirming that all columns are indeed stored in a single cell.\n",
    "\n",
    "This issue arises because the delimiters used in the CSV files are incorrect, resulting in the mixing of data from different columns into a single column.\n",
    "\n",
    "2.- <b>Incorrect Dtypes:</b>\n",
    "\n",
    "All columns are being interpreted as object type (string). This is likely due to how the data is being read, where all columns are treated as a single column due to the incorrect delimiter.\n",
    "\n",
    "To correct this, I will take the following actions:\n",
    "\n",
    "a. I will specify the delimiters using the delimiter= parameter in pd.read_csv.\n",
    "\n",
    "b. I will strip any leading or trailing spaces from the column names, just in case."
   ]
  },
  {
   "cell_type": "code",
   "execution_count": 5,
   "id": "2cb63501",
   "metadata": {},
   "outputs": [],
   "source": [
    "instacart_orders_df = pd.read_csv('https://practicum-content.s3.us-west-1.amazonaws.com/new-markets/Data_Refactored_2_sprint/datasets/instacart_orders.csv', delimiter=';', skipinitialspace=True)\n",
    "instacart_orders_df.columns = instacart_orders_df.columns.str.strip()\n",
    "\n",
    "products_df = pd.read_csv('https://practicum-content.s3.us-west-1.amazonaws.com/new-markets/Data_Refactored_2_sprint/datasets/products.csv', delimiter=';', skipinitialspace=True)\n",
    "products_df.columns = products_df.columns.str.strip()\n",
    "\n",
    "order_products_df = pd.read_csv('https://practicum-content.s3.us-west-1.amazonaws.com/new-markets/Data_Refactored_2_sprint/order_products.csv.zip', delimiter=';', skipinitialspace=True)\n",
    "order_products_df.columns = order_products_df.columns.str.strip()\n",
    "\n",
    "aisles_df = pd.read_csv('https://practicum-content.s3.us-west-1.amazonaws.com/new-markets/Data_Refactored_2_sprint/datasets/aisles.csv', delimiter=';', skipinitialspace=True)\n",
    "aisles_df.columns = aisles_df.columns.str.strip()\n",
    "\n",
    "departments_df = pd.read_csv('https://practicum-content.s3.us-west-1.amazonaws.com/new-markets/Data_Refactored_2_sprint/datasets/departments.csv', delimiter=';', skipinitialspace=True)\n",
    "departments_df.columns = departments_df.columns.str.strip()"
   ]
  },
  {
   "cell_type": "markdown",
   "id": "e6f8dcb5",
   "metadata": {},
   "source": [
    "Let's see how they display"
   ]
  },
  {
   "cell_type": "code",
   "execution_count": 6,
   "id": "e8364380",
   "metadata": {},
   "outputs": [
    {
     "name": "stdout",
     "output_type": "stream",
     "text": [
      "----------------------------------------------------------------------------------------------------\n",
      "Instacart Oders\n",
      "\n",
      "   order_id  user_id  order_number  order_dow  order_hour_of_day  \\\n",
      "0   1515936   183418            11          6                 13   \n",
      "1   1690866   163593             5          5                 12   \n",
      "2   1454967    39980             4          5                 19   \n",
      "\n",
      "   days_since_prior_order  \n",
      "0                    30.0  \n",
      "1                     9.0  \n",
      "2                     2.0  \n",
      "----------------------------------------------------------------------------------------------------\n",
      "Products\n",
      "\n",
      "   product_id                          product_name  aisle_id  department_id\n",
      "0           1            Chocolate Sandwich Cookies        61             19\n",
      "1           2                      All-Seasons Salt       104             13\n",
      "2           3  Robust Golden Unsweetened Oolong Tea        94              7\n",
      "----------------------------------------------------------------------------------------------------\n",
      "Order Products\n",
      "\n",
      "   order_id  product_id  add_to_cart_order  reordered\n",
      "0   2141543       11440               17.0          0\n",
      "1    567889        1560                1.0          1\n",
      "2   2261212       26683                1.0          1\n",
      "----------------------------------------------------------------------------------------------------\n",
      "Aisles\n",
      "\n",
      "   aisle_id                  aisle\n",
      "0         1  prepared soups salads\n",
      "1         2      specialty cheeses\n",
      "2         3    energy granola bars\n",
      "----------------------------------------------------------------------------------------------------\n",
      "Departments\n",
      "\n",
      "   department_id department\n",
      "0              1     frozen\n",
      "1              2      other\n",
      "2              3     bakery\n",
      "----------------------------------------------------------------------------------------------------\n"
     ]
    }
   ],
   "source": [
    "print('-' * 100)\n",
    "print('Instacart Oders')\n",
    "print()\n",
    "print(instacart_orders_df.head(3))\n",
    "\n",
    "print('-' * 100)\n",
    "print('Products')\n",
    "print()\n",
    "print(products_df.head(3))\n",
    "\n",
    "print('-' * 100)\n",
    "print('Order Products')\n",
    "print()\n",
    "print(order_products_df.head(3))\n",
    "\n",
    "print('-' * 100)\n",
    "print('Aisles')\n",
    "print()\n",
    "print(aisles_df.head(3))\n",
    "\n",
    "print('-' * 100)\n",
    "print('Departments')\n",
    "print()\n",
    "print(departments_df.head(3))\n",
    "\n",
    "print('-' * 100)"
   ]
  },
  {
   "cell_type": "markdown",
   "id": "8b2b5e33",
   "metadata": {},
   "source": [
    "Perfect, everything is now aligned.\n",
    "Now, let's see what information the dataset <b>AFTER</b> fixing the delimiters provides us:"
   ]
  },
  {
   "cell_type": "code",
   "execution_count": 7,
   "id": "d4c88313",
   "metadata": {},
   "outputs": [
    {
     "name": "stdout",
     "output_type": "stream",
     "text": [
      "Instacart Orders:\n",
      "\n",
      "<class 'pandas.core.frame.DataFrame'>\n",
      "RangeIndex: 478967 entries, 0 to 478966\n",
      "Data columns (total 6 columns):\n",
      " #   Column                  Non-Null Count   Dtype  \n",
      "---  ------                  --------------   -----  \n",
      " 0   order_id                478967 non-null  int64  \n",
      " 1   user_id                 478967 non-null  int64  \n",
      " 2   order_number            478967 non-null  int64  \n",
      " 3   order_dow               478967 non-null  int64  \n",
      " 4   order_hour_of_day       478967 non-null  int64  \n",
      " 5   days_since_prior_order  450148 non-null  float64\n",
      "dtypes: float64(1), int64(5)\n",
      "memory usage: 21.9 MB\n",
      "None\n",
      "----------------------------------------------------------------------------------------------------\n",
      "Product:\n",
      "\n",
      "<class 'pandas.core.frame.DataFrame'>\n",
      "RangeIndex: 49694 entries, 0 to 49693\n",
      "Data columns (total 4 columns):\n",
      " #   Column         Non-Null Count  Dtype \n",
      "---  ------         --------------  ----- \n",
      " 0   product_id     49694 non-null  int64 \n",
      " 1   product_name   48436 non-null  object\n",
      " 2   aisle_id       49694 non-null  int64 \n",
      " 3   department_id  49694 non-null  int64 \n",
      "dtypes: int64(3), object(1)\n",
      "memory usage: 1.5+ MB\n",
      "None\n",
      "----------------------------------------------------------------------------------------------------\n",
      "Order Product:\n",
      "\n",
      "<class 'pandas.core.frame.DataFrame'>\n",
      "RangeIndex: 4545007 entries, 0 to 4545006\n",
      "Data columns (total 4 columns):\n",
      " #   Column             Dtype  \n",
      "---  ------             -----  \n",
      " 0   order_id           int64  \n",
      " 1   product_id         int64  \n",
      " 2   add_to_cart_order  float64\n",
      " 3   reordered          int64  \n",
      "dtypes: float64(1), int64(3)\n",
      "memory usage: 138.7 MB\n",
      "None\n",
      "----------------------------------------------------------------------------------------------------\n",
      "Aisles:\n",
      "\n",
      "<class 'pandas.core.frame.DataFrame'>\n",
      "RangeIndex: 134 entries, 0 to 133\n",
      "Data columns (total 2 columns):\n",
      " #   Column    Non-Null Count  Dtype \n",
      "---  ------    --------------  ----- \n",
      " 0   aisle_id  134 non-null    int64 \n",
      " 1   aisle     134 non-null    object\n",
      "dtypes: int64(1), object(1)\n",
      "memory usage: 2.2+ KB\n",
      "None\n",
      "----------------------------------------------------------------------------------------------------\n",
      "Departments:\n",
      "\n",
      "<class 'pandas.core.frame.DataFrame'>\n",
      "RangeIndex: 21 entries, 0 to 20\n",
      "Data columns (total 2 columns):\n",
      " #   Column         Non-Null Count  Dtype \n",
      "---  ------         --------------  ----- \n",
      " 0   department_id  21 non-null     int64 \n",
      " 1   department     21 non-null     object\n",
      "dtypes: int64(1), object(1)\n",
      "memory usage: 468.0+ bytes\n",
      "None\n",
      "----------------------------------------------------------------------------------------------------\n"
     ]
    }
   ],
   "source": [
    "print(\"Instacart Orders:\")\n",
    "print()\n",
    "print(instacart_orders_df.info())\n",
    "print('-' * 100)\n",
    "\n",
    "print(\"Product:\")\n",
    "print()\n",
    "print(products_df.info())\n",
    "print('-' * 100)\n",
    "\n",
    "print(\"Order Product:\")\n",
    "print()\n",
    "print(order_products_df.info())\n",
    "print('-' * 100)\n",
    "\n",
    "print(\"Aisles:\")\n",
    "print()\n",
    "print(aisles_df.info())\n",
    "print('-' * 100)\n",
    "\n",
    "print(\"Departments:\")\n",
    "print()\n",
    "print(departments_df.info())\n",
    "print('-' * 100)"
   ]
  },
  {
   "cell_type": "markdown",
   "id": "fd6fc20c",
   "metadata": {},
   "source": [
    "Excellent, the columns now each contain their respective data types and count of null values.\n",
    "Now let's review each part:\n",
    "\n",
    "<b>1. Number of Columns:</b>\n",
    "\n",
    "All DataFrames now appear to have the correct number of columns, and the data is correctly separated into individual columns, indicating that the delimiter issue has been resolved.\n",
    "\n",
    "<b>2. Dtypes:</b>\n",
    "\n",
    "The data types seem to be appropriately assigned in most columns of each DataFrame. However, in order_products_df, the add_to_cart_order column is being interpreted as a floating-point type (float64) instead of an integer type (int64). This may need correction if necessary for analysis purposes. The same applies to the days_since_prior_order column in the instacart_orders_df.\n",
    "\n",
    "<b>3. Null Values:</b>\n",
    "\n",
    "In some DataFrames, such as instacart_orders_df and products_df, there are null values present in certain columns. For instance, in instacart_orders_df, the days_since_prior_order column has null values (exactly 28,819 null values). Additionally, the product_name column in the products_df has 1,258 null values.\n",
    "\n",
    "These null values are important to consider during analysis and should be handled appropriately if necessary.\n",
    "\n",
    "The aisles_df and departments_df DataFrames contain information about aisle categories and departments, respectively. There are no null values in these columns, and the data types appear to be appropriate.\n",
    "\n",
    "It's noteworthy that the order_products_df information does not display the Non-null column. Why might this be? Let's check using the .isnull() method to investigate further."
   ]
  },
  {
   "cell_type": "code",
   "execution_count": 8,
   "id": "c7bc7559",
   "metadata": {
    "scrolled": true
   },
   "outputs": [
    {
     "name": "stdout",
     "output_type": "stream",
     "text": [
      "Null Values count in DataFrame Order_Products:\n",
      "order_id               0\n",
      "product_id             0\n",
      "add_to_cart_order    836\n",
      "reordered              0\n",
      "dtype: int64\n"
     ]
    }
   ],
   "source": [
    "print(\"Null Values count in DataFrame Order_Products:\")\n",
    "print(order_products_df.isnull().sum())"
   ]
  },
  {
   "cell_type": "markdown",
   "id": "c8713f89",
   "metadata": {},
   "source": [
    "Interesting; 836 null values in the `add_to_cart_order` column, but they are not shown with the `.info()` method... Could this be because it is a data type of float64?"
   ]
  },
  {
   "cell_type": "markdown",
   "id": "8RJHqxVmaVsF",
   "metadata": {
    "id": "8RJHqxVmaVsF"
   },
   "source": [
    "## Step 2. Data Preprocessing\n",
    "\n",
    "Preprocess the data as follows:\n",
    "\n",
    "- Verify and correct data types (e.g., ensure that ID columns are integers)."
   ]
  },
  {
   "cell_type": "code",
   "execution_count": 9,
   "id": "05773547",
   "metadata": {},
   "outputs": [
    {
     "name": "stdout",
     "output_type": "stream",
     "text": [
      "Data types of Instacart Orders:\n",
      "order_id                    int64\n",
      "user_id                     int64\n",
      "order_number                int64\n",
      "order_dow                   int64\n",
      "order_hour_of_day           int64\n",
      "days_since_prior_order    float64\n",
      "dtype: object\n",
      "\n",
      "Data types of Products:\n",
      "product_id        int64\n",
      "product_name     object\n",
      "aisle_id          int64\n",
      "department_id     int64\n",
      "dtype: object\n",
      "\n",
      "Data types of Order Products:\n",
      "order_id               int64\n",
      "product_id             int64\n",
      "add_to_cart_order    float64\n",
      "reordered              int64\n",
      "dtype: object\n",
      "\n",
      "Data types of Aisles:\n",
      "aisle_id     int64\n",
      "aisle       object\n",
      "dtype: object\n",
      "\n",
      "Data types of Departments:\n",
      "department_id     int64\n",
      "department       object\n",
      "dtype: object\n"
     ]
    }
   ],
   "source": [
    "# Verification of data types for each column by DataFrame\n",
    "\n",
    "print(\"Data types of Instacart Orders:\")\n",
    "print(instacart_orders_df.dtypes)\n",
    "\n",
    "print(\"\\nData types of Products:\")\n",
    "print(products_df.dtypes)\n",
    "\n",
    "print(\"\\nData types of Order Products:\")\n",
    "print(order_products_df.dtypes)\n",
    "\n",
    "print(\"\\nData types of Aisles:\")\n",
    "print(aisles_df.dtypes)\n",
    "\n",
    "print(\"\\nData types of Departments:\")\n",
    "print(departments_df.dtypes)"
   ]
  },
  {
   "cell_type": "markdown",
   "id": "8b35e208",
   "metadata": {},
   "source": [
    "We have a total of 18 columns:\n",
    "- 13 of them are integers.\n",
    "- 3 of them are objects.\n",
    "- 2 of them are floats."
   ]
  },
  {
   "cell_type": "markdown",
   "id": "4be23569",
   "metadata": {},
   "source": [
    "Previously, we discussed our concerns regarding the columns of type float. Specifically, we are referring to the 'days_since_prior_order' column in the Instacart Orders DataFrame and the 'add_to_cart_order' column in the Order Products DataFrame. It may be appropriate to change them to another data type based on the following reasoning:\n",
    "\n",
    "- `'days_since_prior_order'`: This column indicates the days elapsed since the previous order. It provides insights into the frequency of user orders and is valuable for analyzing customer purchasing habits.\n",
    "\n",
    "Changing this column to type int makes sense in our analysis context due to the nature of the data and the potential future operations we may perform. This column represents discrete and non-fractional time measurements. Converting it to int simplifies its representation and facilitates interpretation as whole days. Working with integer data enables more precise statistical calculations, such as computing average days between orders for specific users. This will provide valuable insights into customer buying habits and support data-driven decision-making.\n",
    "\n",
    "- `'add_to_cart_order'`: This column indicates the sequence in which each product was added to the cart during a specific order. Each time a customer places an order, selected products are added to the cart in a specific order.\n",
    "\n",
    "Changing the 'add_to_cart_order' column to integer (int) data type is appropriate for our data analysis. This column records the sequential order in which products were added to the cart during an order, typically represented as sequential integer numbers. Converting it to int simplifies its representation and enhances its interpretation as a numerical sequence of cart orders. Using integer data facilitates more accurate and efficient statistical calculations, such as calculating the average or median order of products in the cart. This deeper understanding of customer purchasing behavior will inform data-driven decisions.\n",
    "\n",
    "Let's proceed with changing them from float to int:"
   ]
  },
  {
   "cell_type": "code",
   "execution_count": 10,
   "id": "1e23b014",
   "metadata": {},
   "outputs": [
    {
     "name": "stdout",
     "output_type": "stream",
     "text": [
      "Data type of the 'days_since_prior_order' column in Instacart Orders:\n",
      "Int64\n",
      "\n",
      "131665    11\n",
      "253250    30\n",
      "431690     9\n",
      "476246     7\n",
      "140839     3\n",
      "Name: days_since_prior_order, dtype: Int64\n",
      "--------------------------------------------------\n",
      "Data types of the 'add_to_cart_order' column in Order Products:\n",
      "Int64\n",
      "\n",
      "1023129     3\n",
      "3539479     1\n",
      "1038055    12\n",
      "4268463    13\n",
      "4259964    11\n",
      "Name: add_to_cart_order, dtype: Int64\n",
      "--------------------------------------------------\n"
     ]
    }
   ],
   "source": [
    "# Conversion of the 'days_since_prior_order' column to integer data type\n",
    "instacart_orders_df['days_since_prior_order'] = pd.to_numeric(instacart_orders_df['days_since_prior_order'], errors='coerce').astype('Int64')\n",
    "\n",
    "# Conversion of the 'add_to_cart_order' column to integer data type\n",
    "order_products_df['add_to_cart_order'] = pd.to_numeric(order_products_df['add_to_cart_order'], errors='coerce').astype('Int64')\n",
    "\n",
    "print(\"Data type of the 'days_since_prior_order' column in Instacart Orders:\")\n",
    "print(instacart_orders_df['days_since_prior_order'].dtypes)\n",
    "print()\n",
    "print(instacart_orders_df['days_since_prior_order'].sample(5))\n",
    "print('-' * 50)\n",
    "\n",
    "print(\"Data types of the 'add_to_cart_order' column in Order Products:\")\n",
    "print(order_products_df['add_to_cart_order'].dtypes)\n",
    "print()\n",
    "print(order_products_df['add_to_cart_order'].sample(5))\n",
    "print('-' * 50)"
   ]
  },
  {
   "cell_type": "markdown",
   "id": "36036526",
   "metadata": {},
   "source": [
    "Okay, let's review the null values in each DataFrame."
   ]
  },
  {
   "cell_type": "code",
   "execution_count": 11,
   "id": "23ac4634",
   "metadata": {},
   "outputs": [
    {
     "name": "stdout",
     "output_type": "stream",
     "text": [
      "Null values in Instacart Orders:\n",
      "order_id                      0\n",
      "user_id                       0\n",
      "order_number                  0\n",
      "order_dow                     0\n",
      "order_hour_of_day             0\n",
      "days_since_prior_order    28819\n",
      "dtype: int64\n",
      "-----------------------------------\n",
      "\n",
      "Null values in Products:\n",
      "product_id          0\n",
      "product_name     1258\n",
      "aisle_id            0\n",
      "department_id       0\n",
      "dtype: int64\n",
      "-----------------------------------\n",
      "\n",
      "Null values in Order Products:\n",
      "order_id               0\n",
      "product_id             0\n",
      "add_to_cart_order    836\n",
      "reordered              0\n",
      "dtype: int64\n",
      "-----------------------------------\n",
      "\n",
      "Null values in Aisles:\n",
      "aisle_id    0\n",
      "aisle       0\n",
      "dtype: int64\n",
      "-----------------------------------\n",
      "\n",
      "Null values in Departments:\n",
      "department_id    0\n",
      "department       0\n",
      "dtype: int64\n",
      "-----------------------------------\n"
     ]
    }
   ],
   "source": [
    "print(\"Null values in Instacart Orders:\")\n",
    "print(instacart_orders_df.isnull().sum())\n",
    "print('-' * 35)\n",
    "\n",
    "print(\"\\nNull values in Products:\")\n",
    "print(products_df.isnull().sum())\n",
    "print('-' * 35)\n",
    "\n",
    "print(\"\\nNull values in Order Products:\")\n",
    "print(order_products_df.isnull().sum())\n",
    "print('-' * 35)\n",
    "\n",
    "print(\"\\nNull values in Aisles:\")\n",
    "print(aisles_df.isnull().sum())\n",
    "print('-' * 35)\n",
    "\n",
    "print(\"\\nNull values in Departments:\")\n",
    "print(departments_df.isnull().sum())\n",
    "print('-' * 35)\n"
   ]
  },
  {
   "cell_type": "markdown",
   "id": "d6dde906",
   "metadata": {},
   "source": [
    "Let's consider the following:\n",
    "Here we have a list of columns with null values along with the total number of records in each column and the number of null values:\n",
    "\n",
    "<b>Instacart Orders:</b>\n",
    "- Column: `'days_since_prior_order'`.\n",
    "- Total records: 478,967.\n",
    "- Null values: 28,819.\n",
    "- Percentage of null values: 6.02%.\n",
    "\n",
    "<b>Products:</b>\n",
    "- Column: `'product_name'`.\n",
    "- Total records: 49,694.\n",
    "- Null values: 1,258.\n",
    "- Percentage of null values: 2.53%.\n",
    "\n",
    "<b>Order Products:</b>\n",
    "- Column: `'add_to_cart_order'`.\n",
    "- Total records: 4,545,007.\n",
    "- Null values: 836.\n",
    "- Percentage of null values: 0.02%.\n",
    "\n",
    "According to my reasoning, here are the actions I believe we should take to manage these null values:\n",
    "\n",
    "<b>1.- I will impute the null values in the Instacart Orders DataFrame by changing them to AVERAGE:</b>\n",
    "\n",
    "By imputing the missing values in the 'days_since_prior_order' column using the average days since the last order, I will be applying a strategy that will preserve data integrity and obtain a representative estimate of this crucial attribute in analyzing customer purchasing habits.\n",
    "\n",
    "This decision will allow us to maintain the total amount of data available for analysis, which can be essential for understanding general trends in purchasing behavior and making meaningful inferences about consumption patterns over time.\n",
    "\n",
    "I'll note in advance that <b>11 days</b> is the average number of days between orders in the app.\n",
    "\n",
    "<b>2.- Assignment of string \"unknown\" to null values in the Products DataFrame:</b>\n",
    "\n",
    "The decision to assign the label \"unknown\" to null values in the 'product_name' column is based on the need to preserve information integrity without losing the distinction between known and unknown products.\n",
    "\n",
    "By providing a clear designation for missing values, I am ensuring transparency and interpretability of the data while maintaining the structure of the original dataset. This facilitates the identification and appropriate handling of unknown products during analysis without compromising the quality of available information.\n",
    "\n",
    "<b>3.- Removal of rows with null values in the Order Products DataFrame:</b>\n",
    "\n",
    "The decision to delete rows with null values in this DataFrame is based on the need to simplify the dataset and avoid potential complications from handling missing values in subsequent analyses.\n",
    "\n",
    "By removing these observations, I am reducing the complexity of the dataset and improving the efficiency of subsequent analyses by working with a cleaner and more homogeneous dataset. It's important to note that these are only 836 records out of 4,545,007.\n",
    "\n",
    "Let's start with the first step:\n",
    "\n",
    "<b>1.- Imputation of null values in the Instacart Orders DataFrame by replacing them with the AVERAGE:</b>\n",
    "\n",
    "For this, I had to convert the data type of the column back to float, since Python wouldn't allow me to calculate the mean with integer data types 🙄😒"
   ]
  },
  {
   "cell_type": "code",
   "execution_count": 12,
   "id": "5c01d38a",
   "metadata": {},
   "outputs": [],
   "source": [
    "# Convert to float\n",
    "instacart_orders_df['days_since_prior_order'] = instacart_orders_df['days_since_prior_order'].astype(float)\n",
    "\n",
    "# Calculate the mean of non-null values in the 'days_since_prior_order' column and fill missing values with the mean\n",
    "instacart_orders_df['days_since_prior_order'].fillna(instacart_orders_df['days_since_prior_order'].mean(skipna=True), inplace=True)"
   ]
  },
  {
   "cell_type": "markdown",
   "id": "68f22431",
   "metadata": {},
   "source": [
    "Ok, now, let's convert the data back to integers, print a sample with the 'days_since_prior_order' column of interest to take a look at the table, and verify that there are no more null values; note that values marked with <b>11</b> are the ones that changed:"
   ]
  },
  {
   "cell_type": "code",
   "execution_count": 13,
   "id": "c2062ef3",
   "metadata": {},
   "outputs": [
    {
     "name": "stdout",
     "output_type": "stream",
     "text": [
      "int64\n",
      "\n",
      "478011    11\n",
      "176737     3\n",
      "402189     7\n",
      "111658     1\n",
      "59935      7\n",
      "394390     4\n",
      "353950     9\n",
      "245929     9\n",
      "472336     8\n",
      "226025     5\n",
      "Name: days_since_prior_order, dtype: int64\n",
      "\n",
      "Null values in the 'days_since_prior_order' column after imputation: 0\n"
     ]
    }
   ],
   "source": [
    "instacart_orders_df['days_since_prior_order'] = instacart_orders_df['days_since_prior_order'].astype(int)\n",
    "print(instacart_orders_df['days_since_prior_order'].dtype)\n",
    "print()\n",
    "print(instacart_orders_df['days_since_prior_order'].sample(10, random_state=42))\n",
    "print()\n",
    "print(\"Null values in the 'days_since_prior_order' column after imputation:\", instacart_orders_df['days_since_prior_order'].isnull().sum())"
   ]
  },
  {
   "cell_type": "markdown",
   "id": "3e8a961a",
   "metadata": {},
   "source": [
    "Excelent, now, let's move on to the DataFrame Products:\n",
    "\n",
    "<b>2.- Assigning string \"unknown\" to null values in the Products DataFrame:</b>\n",
    "\n",
    "In the 'product_name' column, which contains 1258 missing values, we will fill them with \"unknown\":"
   ]
  },
  {
   "cell_type": "code",
   "execution_count": 14,
   "id": "062d2c5c",
   "metadata": {},
   "outputs": [
    {
     "name": "stdout",
     "output_type": "stream",
     "text": [
      "3355                        Gluten Free Almond Horn Cookie\n",
      "35948                 Camilia Teething Relief Single Doses\n",
      "45192                          Brownies Ala Mode Ice Cream\n",
      "8955                Coconut Breaded Chicken Breast Tenders\n",
      "19341         Medium Concentrated Tikka Masala Curry Paste\n",
      "2143                                               Doritos\n",
      "32051                    Organic Brown Rice Cake Salt-Free\n",
      "36312    Organic Vitality Snack Strawberry Banana Chia ...\n",
      "46410                           Dark Chocolate Almonds Bar\n",
      "48573                           Spicy! Plant-based  Cheeze\n",
      "Name: product_name, dtype: object\n",
      "\n",
      "Null values in the 'product_name' column after converting them to 'unknown': 0\n",
      "\n",
      "How many 'unknown' entries exist in the column? This is to verify if they match the 1258 null values that existed before the change: 1258\n"
     ]
    }
   ],
   "source": [
    "products_df['product_name'].fillna('unknown', inplace=True)\n",
    "\n",
    "print(products_df['product_name'].sample(10))\n",
    "print()\n",
    "print(\"Null values in the 'product_name' column after converting them to 'unknown':\", products_df['product_name'].isnull().sum())\n",
    "print()\n",
    "print(\"How many 'unknown' entries exist in the column? This is to verify if they match the 1258 null values that existed before the change:\", products_df['product_name'].value_counts()['unknown'])"
   ]
  },
  {
   "cell_type": "markdown",
   "id": "e5aba118",
   "metadata": {},
   "source": [
    "Ok, finally, let's proceed with:\n",
    "\n",
    "<b>3.- Deleting rows with null values in the Order Products DataFrame:</b>\n",
    "\n",
    "We will remove the null values from the 'add_to_cart_order' column, as previously stated, deleting 0.02% of the records in this DataFrame will not compromise our analysis in any way."
   ]
  },
  {
   "cell_type": "code",
   "execution_count": 15,
   "id": "c35cc175",
   "metadata": {},
   "outputs": [
    {
     "name": "stdout",
     "output_type": "stream",
     "text": [
      "Null valies in 'add_to_cart_order' columns after deleting them: 0\n"
     ]
    }
   ],
   "source": [
    "order_products_df.dropna(subset=['add_to_cart_order'], inplace=True)\n",
    "\n",
    "print(\"Null valies in 'add_to_cart_order' columns after deleting them:\", order_products_df['add_to_cart_order'].isnull().sum())"
   ]
  },
  {
   "cell_type": "markdown",
   "id": "94213b5c",
   "metadata": {},
   "source": [
    "Let's do a final review of null values in each DataFrame before moving on to the next point:"
   ]
  },
  {
   "cell_type": "code",
   "execution_count": 16,
   "id": "9d2da573",
   "metadata": {},
   "outputs": [
    {
     "name": "stdout",
     "output_type": "stream",
     "text": [
      "Null values in the Instacart Orders DataFrame:\n",
      "order_id                  0\n",
      "user_id                   0\n",
      "order_number              0\n",
      "order_dow                 0\n",
      "order_hour_of_day         0\n",
      "days_since_prior_order    0\n",
      "dtype: int64\n",
      "------------------------------\n",
      "\n",
      "Null values in the Products DataFrame:\n",
      "product_id       0\n",
      "product_name     0\n",
      "aisle_id         0\n",
      "department_id    0\n",
      "dtype: int64\n",
      "------------------------------\n",
      "\n",
      "Null values in the Order Products DataFrame:\n",
      "order_id             0\n",
      "product_id           0\n",
      "add_to_cart_order    0\n",
      "reordered            0\n",
      "dtype: int64\n",
      "------------------------------\n",
      "\n",
      "Null values in the Aisles DataFrame:\n",
      "aisle_id    0\n",
      "aisle       0\n",
      "dtype: int64\n",
      "------------------------------\n",
      "\n",
      "Null values in the Departments DataFrame:\n",
      "department_id    0\n",
      "department       0\n",
      "dtype: int64\n",
      "------------------------------\n"
     ]
    }
   ],
   "source": [
    "print(\"Null values in the Instacart Orders DataFrame:\")\n",
    "print(instacart_orders_df.isnull().sum())\n",
    "print('-' * 30)\n",
    "\n",
    "print(\"\\nNull values in the Products DataFrame:\")\n",
    "print(products_df.isnull().sum())\n",
    "print('-' * 30)\n",
    "\n",
    "print(\"\\nNull values in the Order Products DataFrame:\")\n",
    "print(order_products_df.isnull().sum())\n",
    "print('-' * 30)\n",
    "\n",
    "print(\"\\nNull values in the Aisles DataFrame:\")\n",
    "print(aisles_df.isnull().sum())\n",
    "print('-' * 30)\n",
    "\n",
    "print(\"\\nNull values in the Departments DataFrame:\")\n",
    "print(departments_df.isnull().sum())\n",
    "print('-' * 30)\n"
   ]
  },
  {
   "cell_type": "markdown",
   "id": "fc8f3bde",
   "metadata": {},
   "source": [
    "Great! We've resolved the issue of null values in all our DataFrames 😎\n",
    "\n",
    "Let's check the number of duplicates in each of our DataFrames, including all columns."
   ]
  },
  {
   "cell_type": "code",
   "execution_count": 17,
   "id": "db9a4677",
   "metadata": {},
   "outputs": [
    {
     "name": "stdout",
     "output_type": "stream",
     "text": [
      "Duplicates in Instacart Orders DataFrame: 15\n",
      "Column order_id: 15\n",
      "Column user_id: 321530\n",
      "Column order_number: 478867\n",
      "Column order_dow: 478960\n",
      "Column order_hour_of_day: 478943\n",
      "Column days_since_prior_order: 478936\n",
      "--------------------------------------------------\n",
      "Duplicates in Products DataFrame: 0\n",
      "Column product_id: 0\n",
      "Column product_name: 1257\n",
      "Column aisle_id: 49560\n",
      "Column department_id: 49673\n",
      "--------------------------------------------------\n",
      "Duplicates in Order Products DataFrame: 0\n",
      "Column order_id: 4094125\n",
      "Column product_id: 4498599\n",
      "Column add_to_cart_order: 4544107\n",
      "Column reordered: 4544169\n",
      "--------------------------------------------------\n",
      "Duplicates in Aisles DataFrame: 0\n",
      "Column aisle_id: 0\n",
      "Column aisle: 0\n",
      "--------------------------------------------------\n",
      "Duplicates in Departments DataFrame: 0\n",
      "Column department_id: 0\n",
      "Column department: 0\n"
     ]
    }
   ],
   "source": [
    "# Checking Duplicates in each DataFrame\n",
    "\n",
    "# Instacart Orders\n",
    "print(\"Duplicates in Instacart Orders DataFrame:\", instacart_orders_df.duplicated().sum())\n",
    "print(\"Column order_id:\", instacart_orders_df['order_id'].duplicated().sum())\n",
    "print(\"Column user_id:\", instacart_orders_df['user_id'].duplicated().sum())\n",
    "print(\"Column order_number:\", instacart_orders_df['order_number'].duplicated().sum())\n",
    "print(\"Column order_dow:\", instacart_orders_df['order_dow'].duplicated().sum())\n",
    "print(\"Column order_hour_of_day:\", instacart_orders_df['order_hour_of_day'].duplicated().sum())\n",
    "print(\"Column days_since_prior_order:\", instacart_orders_df['days_since_prior_order'].duplicated().sum())\n",
    "\n",
    "# Products\n",
    "print('-' * 50)\n",
    "print(\"Duplicates in Products DataFrame:\", products_df.duplicated().sum())\n",
    "print(\"Column product_id:\", products_df['product_id'].duplicated().sum())\n",
    "print(\"Column product_name:\", products_df['product_name'].duplicated().sum())\n",
    "print(\"Column aisle_id:\", products_df['aisle_id'].duplicated().sum())\n",
    "print(\"Column department_id:\", products_df['department_id'].duplicated().sum())\n",
    "\n",
    "# Order Products\n",
    "print('-' * 50)\n",
    "print(\"Duplicates in Order Products DataFrame:\", order_products_df.duplicated().sum())\n",
    "print(\"Column order_id:\", order_products_df['order_id'].duplicated().sum())\n",
    "print(\"Column product_id:\", order_products_df['product_id'].duplicated().sum())\n",
    "print(\"Column add_to_cart_order:\", order_products_df['add_to_cart_order'].duplicated().sum())\n",
    "print(\"Column reordered:\", order_products_df['reordered'].duplicated().sum())\n",
    "\n",
    "# Aisles\n",
    "print('-' * 50)\n",
    "print(\"Duplicates in Aisles DataFrame:\", aisles_df.duplicated().sum())\n",
    "print(\"Column aisle_id:\", aisles_df['aisle_id'].duplicated().sum())\n",
    "print(\"Column aisle:\", aisles_df['aisle'].duplicated().sum())\n",
    "\n",
    "# Departments\n",
    "print('-' * 50)\n",
    "print(\"Duplicates in Departments DataFrame:\", departments_df.duplicated().sum())\n",
    "print(\"Column department_id:\", departments_df['department_id'].duplicated().sum())\n",
    "print(\"Column department:\", departments_df['department'].duplicated().sum())\n"
   ]
  },
  {
   "cell_type": "markdown",
   "id": "c8d058df",
   "metadata": {},
   "source": [
    "Interesting that the Instacart Orders DataFrame has duplicates overall, and there are only 15. Let's review them:"
   ]
  },
  {
   "cell_type": "code",
   "execution_count": 18,
   "id": "312f4aca",
   "metadata": {},
   "outputs": [
    {
     "name": "stdout",
     "output_type": "stream",
     "text": [
      "Total number of records in DataFrame number 1 (Instacart Orders): 478967\n",
      "\n",
      "Duplicate records in DataFrame number 1 (Instacart Orders):\n",
      "\n",
      "        order_id  user_id  order_number  order_dow  order_hour_of_day  \\\n",
      "30371    1918001   188546            14          3                  2   \n",
      "99462     794638    50898            24          3                  2   \n",
      "119251    408114    68324             4          3                  2   \n",
      "142258   2845099    31189            11          3                  2   \n",
      "145574    794638    50898            24          3                  2   \n",
      "164581   1112182   202304            84          3                  2   \n",
      "200059   1782114   106752             1          3                  2   \n",
      "204042   2125197    14050            48          3                  2   \n",
      "215294   2160484   107525            16          3                  2   \n",
      "223105   2160484   107525            16          3                  2   \n",
      "230807   1918001   188546            14          3                  2   \n",
      "242618   1021560    53767             3          3                  2   \n",
      "250626    467134    63189            21          3                  2   \n",
      "257934   1919531   191501            32          3                  2   \n",
      "259636   2282673    86751            49          3                  2   \n",
      "266232   1782114   106752             1          3                  2   \n",
      "273805   1112182   202304            84          3                  2   \n",
      "284038   2845099    31189            11          3                  2   \n",
      "311713   1021560    53767             3          3                  2   \n",
      "314427   1286742   183220            48          3                  2   \n",
      "321100    408114    68324             4          3                  2   \n",
      "323900   1919531   191501            32          3                  2   \n",
      "324868   2232988    82565             1          3                  2   \n",
      "345917   2232988    82565             1          3                  2   \n",
      "354993    391768    57671            19          3                  2   \n",
      "371905    391768    57671            19          3                  2   \n",
      "394347    467134    63189            21          3                  2   \n",
      "411408   1286742   183220            48          3                  2   \n",
      "415163   2282673    86751            49          3                  2   \n",
      "441599   2125197    14050            48          3                  2   \n",
      "\n",
      "        days_since_prior_order  \n",
      "30371                       16  \n",
      "99462                        2  \n",
      "119251                      18  \n",
      "142258                       7  \n",
      "145574                       2  \n",
      "164581                       6  \n",
      "200059                      11  \n",
      "204042                       3  \n",
      "215294                      30  \n",
      "223105                      30  \n",
      "230807                      16  \n",
      "242618                       9  \n",
      "250626                       2  \n",
      "257934                       7  \n",
      "259636                       2  \n",
      "266232                      11  \n",
      "273805                       6  \n",
      "284038                       7  \n",
      "311713                       9  \n",
      "314427                       4  \n",
      "321100                      18  \n",
      "323900                       7  \n",
      "324868                      11  \n",
      "345917                      11  \n",
      "354993                      10  \n",
      "371905                      10  \n",
      "394347                       2  \n",
      "411408                       4  \n",
      "415163                       2  \n",
      "441599                       3  \n"
     ]
    }
   ],
   "source": [
    "# Total number of records in the Instacart Orders DataFrame\n",
    "print(\"Total number of records in DataFrame number 1 (Instacart Orders):\", len(instacart_orders_df))\n",
    "\n",
    "# Duplicate records in the Instacart Orders DataFrame\n",
    "print()\n",
    "print(\"Duplicate records in DataFrame number 1 (Instacart Orders):\")\n",
    "print()\n",
    "print(instacart_orders_df[instacart_orders_df.duplicated(keep=False)])"
   ]
  },
  {
   "cell_type": "markdown",
   "id": "fbd44af0",
   "metadata": {},
   "source": [
    "Here are my <b>observations</b> regarding the duplicate values:\n",
    "\n",
    "<b>DataFrame Instacart Orders:</b>\n",
    "\n",
    "After carefully reviewing the records initially identified as duplicates in the Instacart Orders DataFrame, I concluded that these do not represent duplicates in the traditional sense, but rather coincidences in customer ordering behavior.\n",
    "\n",
    "The observation that these records correspond to orders placed on the same day of the week and at the same time suggests that they are not data entry errors or accidental duplicates, but rather a legitimate feature of the data.\n",
    "\n",
    "Reiterating that according to the 'order_dow' criterion, where DOW (day of week) starts with 0 for Sunday, the number 3 corresponds to Wednesday. Therefore, these duplicates indicate 15 instances of orders placed at 2 AM on Wednesday.\n",
    "\n",
    "Thus, these duplicates reflect authentic customer behaviors and do not compromise the data integrity or the accuracy of subsequent analyses.\n",
    "\n",
    "<b>Remaining duplicates:</b>\n",
    "\n",
    "The same applies to the rest of the duplicates; they indicate legitimate behaviors, days, hours, and data that repeat in the purchasing dynamics. Therefore, I personally do not consider making changes to these duplicates."
   ]
  },
  {
   "cell_type": "markdown",
   "id": "2b4abc7d",
   "metadata": {},
   "source": [
    "### Solution Plan\n",
    "\n",
    "1.- <b>Regarding data types,</b> we adjusted columns where it was necessary to change float values to int, ensuring a more appropriate representation of the information.\n",
    "\n",
    "This adjustment was made to maintain consistency in data handling and facilitate subsequent analysis, avoiding possible errors or distortions in numerical operations.\n",
    "\n",
    "2.- <b>Regarding missing values,</b> we implemented different strategies according to the context of each column.\n",
    "\n",
    "Reiterating:\n",
    "\n",
    "* For the 'days_since_prior_order' column in the Instacart orders DataFrame, I used mean-based imputation to fill missing values, ensuring the integrity of temporal information. 28,819 data points were imputed.\n",
    "\n",
    "* In the 'product_name' column of the products DataFrame, I assigned the label 'unknown' to null values to maintain data integrity and facilitate interpretation. 1,257 data points were modified.\n",
    "\n",
    "* Regarding the 'add_to_cart_order' column in the order products DataFrame, I chose to drop null values without modification, as they represented a minority and their absence did not significantly compromise our analyses. 836 data points were dropped.\n",
    "\n",
    "3.- <b>Regarding the 15 duplicates identified in the Instacart orders DataFrame,</b> we decided to retain them in the dataset due to their potential importance in understanding customer purchasing patterns over time. These duplicates reflected orders placed on the same day of the week and at the same time of day, which could indicate certain recurring purchasing behaviors by users.\n",
    "\n",
    "4.- <b>Regarding the remaining duplicates,</b> I reiterate: all of them indicate legitimate behaviors, days, hours, and data that repeat in the purchasing dynamics. Therefore, I personally consider not making changes to these duplicates."
   ]
  },
  {
   "cell_type": "markdown",
   "id": "07357848-dc64-4156-9cc3-01ff4365226d",
   "metadata": {
    "id": "07357848-dc64-4156-9cc3-01ff4365226d"
   },
   "source": [
    "### Duplicates Deletion"
   ]
  },
  {
   "cell_type": "markdown",
   "id": "f179f0a9",
   "metadata": {
    "id": "f179f0a9"
   },
   "source": [
    "#### `orders` data frame"
   ]
  },
  {
   "cell_type": "code",
   "execution_count": 19,
   "id": "0d44de5d",
   "metadata": {
    "id": "0d44de5d"
   },
   "outputs": [
    {
     "name": "stdout",
     "output_type": "stream",
     "text": [
      "        order_id  user_id  order_number  order_dow  order_hour_of_day  \\\n",
      "4838     2766110   162084            41          3                  2   \n",
      "5156     2190225   138285            18          3                  2   \n",
      "15506     553049    58599            13          3                  2   \n",
      "18420     382357   120200            19          3                  2   \n",
      "24691     690242    77357             2          3                  2   \n",
      "...          ...      ...           ...        ...                ...   \n",
      "457013   3384021    14881             6          3                  2   \n",
      "458816    910166   164782            18          3                  2   \n",
      "459635   1680532   106435             6          3                  2   \n",
      "468324    222962    54979            59          3                  2   \n",
      "477526   2592344    46860            38          3                  2   \n",
      "\n",
      "        days_since_prior_order  \n",
      "4838                        16  \n",
      "5156                        11  \n",
      "15506                        7  \n",
      "18420                       11  \n",
      "24691                        9  \n",
      "...                        ...  \n",
      "457013                      30  \n",
      "458816                       4  \n",
      "459635                      21  \n",
      "468324                       3  \n",
      "477526                       3  \n",
      "\n",
      "[121 rows x 6 columns]\n"
     ]
    }
   ],
   "source": [
    "# Based on your findings, verify all orders made on Wednesday at 2:00 AM.\n",
    "\n",
    "# Filtering the DataFrame for orders on Wednesday at 2 AM\n",
    "wednesday_2am_orders_df = instacart_orders_df[(instacart_orders_df['order_dow'] == 3) & (instacart_orders_df['order_hour_of_day'] == 2)]\n",
    "\n",
    "print(wednesday_2am_orders_df)"
   ]
  },
  {
   "cell_type": "markdown",
   "id": "vu2OWyoqwOx5",
   "metadata": {
    "id": "vu2OWyoqwOx5"
   },
   "source": [
    "What does this result suggest? That 121 people like to do their shopping on Wednesdays at 2 am? 🤔 It doesn't match the 15 duplicates in the DataFrame. Honestly, I don't find it necessarily to delete duplicates here."
   ]
  },
  {
   "cell_type": "markdown",
   "id": "203a269e",
   "metadata": {},
   "source": [
    "<b>I reaffirm my reasoning regarding the decision NOT to delete duplicates</b>\n",
    "\n",
    "Regarding the 15 duplicates identified in the Instacart orders DataFrame, I chose to retain them in the dataset due to their potential importance in understanding customer purchasing patterns over time. These duplicates reflect orders placed on the same day of the week and at the same time of day, which could indicate certain recurring purchasing behaviors by users.\n",
    "\n",
    "Moreover, considering that 15 entries represent a fraction of the DataFrame's records, I believe removing them is neither necessary nor relevant for future analysis."
   ]
  },
  {
   "cell_type": "markdown",
   "id": "45e6bc46",
   "metadata": {
    "id": "45e6bc46"
   },
   "source": [
    "#### `products` data frame"
   ]
  },
  {
   "cell_type": "markdown",
   "id": "0348fb50",
   "metadata": {},
   "source": [
    "In this code, I add the global table of duplicates that was presented earlier. From there, we will extract references according to what the project requires."
   ]
  },
  {
   "cell_type": "code",
   "execution_count": 20,
   "id": "bb884468",
   "metadata": {},
   "outputs": [
    {
     "name": "stdout",
     "output_type": "stream",
     "text": [
      "DF PRODUCTS: Global Duplicates Table\n",
      "\n",
      "Duplicates in the Products DataFrame: 0\n",
      "Column product_id: 0\n",
      "Column product_name: 1257\n",
      "Column aisle_id: 49560\n",
      "Column department_id: 49673\n",
      "---------------------------------------------------------------------------\n",
      "There are no fully duplicated rows in the Products DataFrame.\n",
      "---------------------------------------------------------------------------\n",
      "Number of duplicated department IDs: 49673 out of 49694 records.\n"
     ]
    }
   ],
   "source": [
    "# Products Global Duplicates\n",
    "print(\"DF PRODUCTS: Global Duplicates Table\")\n",
    "print()\n",
    "print(\"Duplicates in the Products DataFrame:\", products_df.duplicated().sum())\n",
    "print(\"Column product_id:\", products_df['product_id'].duplicated().sum())\n",
    "print(\"Column product_name:\", products_df['product_name'].duplicated().sum())\n",
    "print(\"Column aisle_id:\", products_df['aisle_id'].duplicated().sum())\n",
    "print(\"Column department_id:\", products_df['department_id'].duplicated().sum())\n",
    "print('-' * 75)\n",
    "\n",
    "# Checking for entirely duplicated rows\n",
    "duplicated_rows_products = products_df.duplicated()\n",
    "if duplicated_rows_products.any():\n",
    "    print(\"There are fully duplicated rows in the Products DataFrame.\")\n",
    "else:\n",
    "    print(\"There are no fully duplicated rows in the Products DataFrame.\")\n",
    "print('-' * 75)\n",
    "\n",
    "# Checking only for duplicated department IDs\n",
    "print(\"Number of duplicated department IDs:\", products_df['department_id'].duplicated().sum(), \"out of 49694 records.\")\n"
   ]
  },
  {
   "cell_type": "markdown",
   "id": "78cfa3db",
   "metadata": {},
   "source": [
    "As we can see, we do have duplicate department identifiers in the Products DataFrame, but this is because the column records where the product comes from. It's natural that all departments will repeat consistently, as we can see in the following frequency query:"
   ]
  },
  {
   "cell_type": "code",
   "execution_count": 21,
   "id": "88daa4f4",
   "metadata": {
    "id": "88daa4f4"
   },
   "outputs": [
    {
     "name": "stdout",
     "output_type": "stream",
     "text": [
      "Tabla de departamentos por número de frecuencias que se repiten de mayor a menor\n",
      "department_id\n",
      "1     4008\n",
      "2      548\n",
      "3     1516\n",
      "4     1684\n",
      "5     1054\n",
      "6     1139\n",
      "7     4366\n",
      "8      972\n",
      "9     1858\n",
      "10      38\n",
      "11    6564\n",
      "12     907\n",
      "13    5372\n",
      "14    1117\n",
      "15    2092\n",
      "16    3449\n",
      "17    3085\n",
      "18    1081\n",
      "19    6264\n",
      "20    1322\n",
      "21    1258\n",
      "Name: count, dtype: int64\n"
     ]
    }
   ],
   "source": [
    "print(\"Tabla de departamentos por número de frecuencias que se repiten de mayor a menor\")\n",
    "print(products_df['department_id'].value_counts().sort_index())"
   ]
  },
  {
   "cell_type": "code",
   "execution_count": 22,
   "id": "c773f0bf",
   "metadata": {
    "id": "c773f0bf"
   },
   "outputs": [
    {
     "name": "stdout",
     "output_type": "stream",
     "text": [
      "There are duplicated product names in the DataFrame.\n",
      "\n",
      "Number of duplicates in the 'product_name' column: 1258\n",
      "\n",
      "Duplicates in the 'product_name' column:\n",
      "       product_id product_name  aisle_id  department_id\n",
      "37             38      unknown       100             21\n",
      "71             72      unknown       100             21\n",
      "109           110      unknown       100             21\n",
      "296           297      unknown       100             21\n",
      "416           417      unknown       100             21\n",
      "...           ...          ...       ...            ...\n",
      "49552       49553      unknown       100             21\n",
      "49574       49575      unknown       100             21\n",
      "49640       49641      unknown       100             21\n",
      "49663       49664      unknown       100             21\n",
      "49668       49669      unknown       100             21\n",
      "\n",
      "[1258 rows x 4 columns]\n"
     ]
    }
   ],
   "source": [
    "# Checking only for duplicated product names (converting names to uppercase for better comparison)\n",
    "if products_df['product_name'].str.upper().duplicated().any():\n",
    "    print(\"There are duplicated product names in the DataFrame.\")\n",
    "else:\n",
    "    print(\"There are no duplicated product names in the DataFrame.\")\n",
    "print()\n",
    "print(\"Number of duplicates in the 'product_name' column:\", len(products_df[products_df.duplicated(subset=['product_name'], keep=False)]))\n",
    "print()\n",
    "print(\"Duplicates in the 'product_name' column:\")\n",
    "print(products_df[products_df['product_name'].duplicated(keep=False)])"
   ]
  },
  {
   "cell_type": "markdown",
   "id": "adb05ab4",
   "metadata": {},
   "source": [
    "We must remember that we previously replaced missing values with the word \"unknown,\" which is why we have a total of 1258 \"unknown\" values."
   ]
  },
  {
   "cell_type": "code",
   "execution_count": 23,
   "id": "ff466f27",
   "metadata": {},
   "outputs": [
    {
     "name": "stdout",
     "output_type": "stream",
     "text": [
      "Empty DataFrame\n",
      "Columns: [product_id, product_name, aisle_id, department_id]\n",
      "Index: []\n"
     ]
    }
   ],
   "source": [
    "filtered_products_df_nounknown = products_df[products_df['product_name'] != 'unknown']\n",
    "duplicates_product_name = filtered_products_df_nounknown[filtered_products_df_nounknown.duplicated(subset=['product_name'], keep=False)]\n",
    "print(duplicates_product_name)"
   ]
  },
  {
   "cell_type": "markdown",
   "id": "b55b7fc6",
   "metadata": {},
   "source": [
    "The identification and handling of duplicates in key columns such as product_name, aisle_id, and department_id stand out prominently.\n",
    "\n",
    "As mentioned earlier, I made the decision to replace missing values with \"unknown,\" ensuring data integrity for further analysis.\n",
    "\n",
    "Lastly, we should ensure a proper interpretation of duplicates in the department_id and aisle_id columns. These duplicates indicate that they come from another DataFrame reserved for categorizing these IDs into different departments."
   ]
  },
  {
   "cell_type": "markdown",
   "id": "60f30db1",
   "metadata": {
    "id": "60f30db1"
   },
   "source": [
    "#### `departments` data frame"
   ]
  },
  {
   "cell_type": "markdown",
   "id": "23d615c5",
   "metadata": {},
   "source": [
    "As we did previously with the Products DataFrame, we start with the global table of duplicates for Departments as a reference:"
   ]
  },
  {
   "cell_type": "code",
   "execution_count": 24,
   "id": "fb410ad4-0fbf-4b80-bb09-23fdea79afe3",
   "metadata": {
    "id": "fb410ad4-0fbf-4b80-bb09-23fdea79afe3"
   },
   "outputs": [
    {
     "name": "stdout",
     "output_type": "stream",
     "text": [
      "DF DEPARTMENTS: Global Duplicates Table\n",
      "\n",
      "Duplicates in the Departments DataFrame: 0\n",
      "Column department_id: 0\n",
      "Column department: 0\n",
      "---------------------------------------------------------------------------\n",
      "There are no fully duplicated rows in the Departments DataFrame.\n"
     ]
    }
   ],
   "source": [
    "# Global Duplicates in Departments\n",
    "print(\"DF DEPARTMENTS: Global Duplicates Table\")\n",
    "print()\n",
    "print(\"Duplicates in the Departments DataFrame:\", departments_df.duplicated().sum())\n",
    "print(\"Column department_id:\", departments_df['department_id'].duplicated().sum())\n",
    "print(\"Column department:\", departments_df['department'].duplicated().sum())\n",
    "print('-' * 75)\n",
    "\n",
    "# Checking for entirely duplicated rows\n",
    "duplicated_rows_departments = departments_df.duplicated()\n",
    "if duplicated_rows_departments.any():\n",
    "    print(\"There are fully duplicated rows in the Departments DataFrame.\")\n",
    "else:\n",
    "    print(\"There are no fully duplicated rows in the Departments DataFrame.\")"
   ]
  },
  {
   "cell_type": "markdown",
   "id": "c2ad0d6c",
   "metadata": {},
   "source": [
    "<b>THERE IS NO PRODUCT_ID COLUMN IN THE DEPARTMENTS DATAFRAME</b>\n",
    "\n",
    "What we can do is:\n",
    "\n",
    "a.- Review duplicates in all columns of the Departments DataFrame (after all, there are only two columns).\n",
    "\n",
    "b.- Review duplicates in all columns of the Products DataFrame (after all, there are only four columns)."
   ]
  },
  {
   "cell_type": "code",
   "execution_count": 25,
   "id": "f30dfe92",
   "metadata": {},
   "outputs": [
    {
     "name": "stdout",
     "output_type": "stream",
     "text": [
      "Duplicate Checker in DF Departments\n",
      "\n",
      "There are no duplicated department IDs in the Departments DataFrame.\n",
      "Number of duplicated department IDs: 0 out of 21 department records\n",
      "\n",
      "There are no duplicated department names in the Departments DataFrame.\n",
      "Number of duplicated department names: 0 out of 21 department names\n",
      "---------------------------------------------------------------------------\n",
      "Duplicate Checker in DF Products\n",
      "\n",
      "There are no duplicated product IDs.\n",
      "Number of duplicated product IDs: 0 out of 49693 records\n",
      "\n",
      "There are duplicated product names.\n",
      "Number of duplicated product names: 1257 out of 49693 records\n",
      "\n",
      "There are duplicated aisle IDs.\n",
      "Number of duplicated aisle IDs: 49560 out of 49693 records\n",
      "\n",
      "There are duplicated department IDs.\n",
      "Number of duplicated department IDs: 49673 out of 49693 records\n",
      "\n"
     ]
    }
   ],
   "source": [
    "# a.- Checking duplicates in the Departments DataFrame columns\n",
    "\n",
    "print(\"Duplicate Checker in DF Departments\")\n",
    "print()\n",
    "\n",
    "# Checking duplicates in the department_id column\n",
    "if departments_df['department_id'].duplicated().any():\n",
    "    print(\"There are duplicated department IDs in the Departments DataFrame.\")\n",
    "else:\n",
    "    print(\"There are no duplicated department IDs in the Departments DataFrame.\")\n",
    "print(\"Number of duplicated department IDs:\", departments_df['department_id'].duplicated().sum(), \"out of 21 department records\")\n",
    "print()\n",
    "\n",
    "# Checking duplicates in the department column\n",
    "if departments_df['department'].duplicated().any():\n",
    "    print(\"There are duplicated department names in the Departments DataFrame.\")\n",
    "else:\n",
    "    print(\"There are no duplicated department names in the Departments DataFrame.\")\n",
    "print(\"Number of duplicated department names:\", departments_df['department'].duplicated().sum(), \"out of 21 department names\")\n",
    "print('-' * 75)\n",
    "\n",
    "# b.- Checking duplicates in the Products DataFrame columns\n",
    "\n",
    "print(\"Duplicate Checker in DF Products\")\n",
    "print()\n",
    "\n",
    "# Checking duplicates in the product_id column\n",
    "if products_df['product_id'].duplicated().any():\n",
    "    print(\"There are duplicated product IDs.\")\n",
    "else:\n",
    "    print(\"There are no duplicated product IDs.\")\n",
    "print(\"Number of duplicated product IDs:\", products_df['product_id'].duplicated().sum(), \"out of 49693 records\")\n",
    "print()\n",
    "\n",
    "# Checking duplicates in the product_name column\n",
    "if products_df['product_name'].duplicated().any():\n",
    "    print(\"There are duplicated product names.\")\n",
    "else:\n",
    "    print(\"There are no duplicated product names.\")\n",
    "print(\"Number of duplicated product names:\", products_df['product_name'].duplicated().sum(), \"out of 49693 records\")\n",
    "print()\n",
    "\n",
    "# Checking duplicates in the aisle_id column\n",
    "if products_df['aisle_id'].duplicated().any():\n",
    "    print(\"There are duplicated aisle IDs.\")\n",
    "else:\n",
    "    print(\"There are no duplicated aisle IDs.\")\n",
    "print(\"Number of duplicated aisle IDs:\", products_df['aisle_id'].duplicated().sum(), \"out of 49693 records\")\n",
    "print()\n",
    "\n",
    "# Checking duplicates in the department_id column\n",
    "if products_df['department_id'].duplicated().any():\n",
    "    print(\"There are duplicated department IDs.\")\n",
    "else:\n",
    "    print(\"There are no duplicated department IDs.\")\n",
    "print(\"Number of duplicated department IDs:\", products_df['department_id'].duplicated().sum(), \"out of 49693 records\")\n",
    "print()\n"
   ]
  },
  {
   "cell_type": "markdown",
   "id": "742dbfd1",
   "metadata": {},
   "source": [
    "Findings in the Departments DataFrame indicate that no fully duplicated rows or duplicate values were found in the department_id and department columns. Being a catalog, there shouldn't be reasons to justify duplicates if they existed.\n",
    "\n",
    "This consistency in the data suggests that the DataFrame is well-structured and does not have duplication issues, which facilitates its analysis and use in future tasks.\n",
    "\n",
    "Regarding duplicates in Order Products: all of them indicate legitimate behaviors and repeated data in purchasing dynamics, particularly duplicates in aisle and department IDs. Therefore, I personally consider not making changes to these duplicates.\n",
    "\n",
    "Regarding duplicates in \"unknown,\" my stance on this has already been established earlier."
   ]
  },
  {
   "cell_type": "markdown",
   "id": "889349c1",
   "metadata": {
    "id": "889349c1"
   },
   "source": [
    "#### `aisles` data frame"
   ]
  },
  {
   "cell_type": "markdown",
   "id": "61ddb920",
   "metadata": {},
   "source": [
    "As we did previously with the Products and Departments DataFrames, we start with the global table of duplicates for Aisles as a reference:"
   ]
  },
  {
   "cell_type": "code",
   "execution_count": 26,
   "id": "9da89fb9-4679-40f5-ad0d-c34df753a3f8",
   "metadata": {
    "id": "9da89fb9-4679-40f5-ad0d-c34df753a3f8"
   },
   "outputs": [
    {
     "name": "stdout",
     "output_type": "stream",
     "text": [
      "DF AISLES: Global Duplicates Table\n",
      "\n",
      "Duplicates in the Aisles DataFrame: 0\n",
      "Column aisle_id: 0\n",
      "Column aisle: 0\n",
      "---------------------------------------------------------------------------\n",
      "There are no fully duplicated rows in the Aisles DataFrame.\n"
     ]
    }
   ],
   "source": [
    "# Aisles Global Duplicates\n",
    "print(\"DF AISLES: Global Duplicates Table\")\n",
    "print()\n",
    "print(\"Duplicates in the Aisles DataFrame:\", aisles_df.duplicated().sum())\n",
    "print(\"Column aisle_id:\", aisles_df['aisle_id'].duplicated().sum())\n",
    "print(\"Column aisle:\", aisles_df['aisle'].duplicated().sum())\n",
    "print('-' * 75)\n",
    "\n",
    "# Checking for entirely duplicated rows\n",
    "duplicated_rows_aisles = aisles_df.duplicated()\n",
    "if duplicated_rows_aisles.any():\n",
    "    print(\"There are fully duplicated rows in the Aisles DataFrame.\")\n",
    "else:\n",
    "    print(\"There are no fully duplicated rows in the Aisles DataFrame.\")\n"
   ]
  },
  {
   "cell_type": "markdown",
   "id": "01a75f0d",
   "metadata": {},
   "source": [
    "Just like in the Departments DataFrame:\n",
    "\n",
    "<b>THERE IS NO PRODUCT_ID COLUMN IN THE AISLES DATAFRAME</b>\n",
    "\n",
    "What we can do is review duplicates in all columns of the Aisles DataFrame; after all, there are only two columns."
   ]
  },
  {
   "cell_type": "code",
   "execution_count": 27,
   "id": "dda70ff2",
   "metadata": {},
   "outputs": [
    {
     "name": "stdout",
     "output_type": "stream",
     "text": [
      "There are no duplicated aisle IDs.\n",
      "Number of duplicated aisle IDs: 0 out of 134 records\n",
      "\n",
      "There are no duplicated aisle names in the DataFrame.\n",
      "Number of duplicated aisle names: 0 out of 134 names\n",
      "\n"
     ]
    }
   ],
   "source": [
    "# Checking duplicates in the columns of the Aisles DataFrame:\n",
    "\n",
    "if aisles_df['aisle_id'].duplicated().any():\n",
    "    print(\"There are duplicated aisle IDs.\")\n",
    "else:\n",
    "    print(\"There are no duplicated aisle IDs.\")\n",
    "print(\"Number of duplicated aisle IDs:\", aisles_df['aisle_id'].duplicated().sum(), \"out of 134 records\")\n",
    "print()\n",
    "\n",
    "if aisles_df['aisle'].duplicated().any():\n",
    "    print(\"There are duplicated aisle names in the DataFrame.\")\n",
    "else:\n",
    "    print(\"There are no duplicated aisle names in the DataFrame.\")\n",
    "print(\"Number of duplicated aisle names:\", aisles_df['aisle'].duplicated().sum(), \"out of 134 names\")\n",
    "print()\n"
   ]
  },
  {
   "cell_type": "markdown",
   "id": "3a76f634",
   "metadata": {},
   "source": [
    "There are no fully duplicated rows, duplicated aisle identifiers, or duplicated aisle names.\n",
    "\n",
    "This suggests that the aisle catalog is well-structured and does not have inconsistencies in its data. Therefore, no additional actions were necessary regarding duplicates in this DataFrame, as they do not pose a problem for its use as an aisle catalog in analyzing supermarket data.\n",
    "\n",
    "We can infer that the Aisles and Departments DataFrames are in good shape and do not require further treatment (subject to any future requirements in this project, of course)."
   ]
  },
  {
   "cell_type": "markdown",
   "id": "274cd06a",
   "metadata": {
    "id": "274cd06a"
   },
   "source": [
    "#### `order_products` data frame"
   ]
  },
  {
   "cell_type": "markdown",
   "id": "ce53e1af",
   "metadata": {},
   "source": [
    "Just as we did previously with Products, Departments, and Aisles, we start with the global table of duplicates for Order Products as a reference:"
   ]
  },
  {
   "cell_type": "code",
   "execution_count": 28,
   "id": "52326689-84a8-4b8f-a881-7c68780f62c9",
   "metadata": {
    "id": "52326689-84a8-4b8f-a881-7c68780f62c9"
   },
   "outputs": [
    {
     "name": "stdout",
     "output_type": "stream",
     "text": [
      "DF ORDER PRODUCTS: Global Duplicates Table\n",
      "\n",
      "Duplicates in the Order Products DataFrame: 0\n",
      "Column order_id: 4094125\n",
      "Column product_id: 4498599\n",
      "Column add_to_cart_order: 4544107\n",
      "Column reordered: 4544169\n",
      "---------------------------------------------------------------------------\n",
      "There are no fully duplicated rows in the Order Products DataFrame.\n",
      "---------------------------------------------------------------------------\n",
      "There are duplicated order IDs.\n",
      "Number of duplicated order IDs: 4094125 out of 4,544,171 records\n",
      "\n",
      "There are duplicated product IDs.\n",
      "Number of duplicated product IDs: 4498599 out of 4,544,171 records\n",
      "\n",
      "There are duplicates in the order in which products were added to the cart.\n",
      "Number of duplicates in the add_to_cart_order column: 4544107 out of 4,544,171 records\n",
      "\n",
      "There are duplicates in the reordered column.\n",
      "Number of duplicated reordered flags: 4544169 out of 4,544,171 records\n"
     ]
    }
   ],
   "source": [
    "# Order Products Global Duplicates\n",
    "print(\"DF ORDER PRODUCTS: Global Duplicates Table\")\n",
    "print()\n",
    "print(\"Duplicates in the Order Products DataFrame:\", order_products_df.duplicated().sum())\n",
    "print(\"Column order_id:\", order_products_df['order_id'].duplicated().sum())\n",
    "print(\"Column product_id:\", order_products_df['product_id'].duplicated().sum())\n",
    "print(\"Column add_to_cart_order:\", order_products_df['add_to_cart_order'].duplicated().sum())\n",
    "print(\"Column reordered:\", order_products_df['reordered'].duplicated().sum())\n",
    "print('-' * 75)\n",
    "\n",
    "# Checking for entirely duplicated rows\n",
    "duplicated_rows_order_products = order_products_df.duplicated()\n",
    "if duplicated_rows_order_products.any():\n",
    "    print(\"There are fully duplicated rows in the Order Products DataFrame.\")\n",
    "else:\n",
    "    print(\"There are no fully duplicated rows in the Order Products DataFrame.\")\n",
    "print('-' * 75)   \n",
    "\n",
    "# Checking for potentially misleading duplicates\n",
    "\n",
    "# Checking duplicates in the order_id column\n",
    "if order_products_df['order_id'].duplicated().any():\n",
    "    print(\"There are duplicated order IDs.\")\n",
    "else:\n",
    "    print(\"There are no duplicated order IDs.\")\n",
    "print(\"Number of duplicated order IDs:\", order_products_df['order_id'].duplicated().sum(), \"out of 4,544,171 records\")\n",
    "print()\n",
    "\n",
    "# Checking duplicates in the product_id column\n",
    "if order_products_df['product_id'].duplicated().any():\n",
    "    print(\"There are duplicated product IDs.\")\n",
    "else:\n",
    "    print(\"There are no duplicated product IDs.\")\n",
    "print(\"Number of duplicated product IDs:\", order_products_df['product_id'].duplicated().sum(), \"out of 4,544,171 records\")\n",
    "print()\n",
    "\n",
    "# Checking duplicates in the add_to_cart_order column\n",
    "if order_products_df['add_to_cart_order'].duplicated().any():\n",
    "    print(\"There are duplicates in the order in which products were added to the cart.\")\n",
    "else:\n",
    "    print(\"There are no duplicates in the order in which products were added to the cart.\")\n",
    "print(\"Number of duplicates in the add_to_cart_order column:\", order_products_df['add_to_cart_order'].duplicated().sum(), \"out of 4,544,171 records\")\n",
    "print()\n",
    "\n",
    "# Checking duplicates in the reordered column\n",
    "if order_products_df['reordered'].duplicated().any():\n",
    "    print(\"There are duplicates in the reordered column.\")\n",
    "else:\n",
    "    print(\"There are no duplicates in the reordered column.\")\n",
    "print(\"Number of duplicated reordered flags:\", order_products_df['reordered'].duplicated().sum(), \"out of 4,544,171 records\")"
   ]
  },
  {
   "cell_type": "markdown",
   "id": "71fe03e3",
   "metadata": {},
   "source": [
    "Findings in the Order Products DataFrame reveal that there are no fully duplicated rows in the dataset.\n",
    "\n",
    "Duplicates were identified in several key columns. For example: duplicated order and product identifiers were observed, as well as duplicates in the order in which products were added to the shopping cart and in the column indicating if a product has been reordered.\n",
    "\n",
    "As mentioned earlier, these duplicates indicate legitimate behaviors and repeated data in purchasing dynamics. Therefore, I personally consider not making changes to these duplicates."
   ]
  },
  {
   "cell_type": "markdown",
   "id": "d2e47279",
   "metadata": {},
   "source": [
    "### Finding and removing missing values\n",
    "\n",
    "Previously, we have already addressed missing values but we are happy to explain again and make any necessary changes.\n",
    "\n",
    "Meanwhile, let's recap what happened with those values:\n",
    "\n",
    "* The column `'product_name'` of the table products: we converted all missing values to \"Unknown\".\n",
    "* The column `'days_since_prior_order'` of the table orders: we converted all missing values to the average.\n",
    "* The column `'add_to_cart_order'` of the table order_products: we dropped rows containing missing values since they represented less than 0.02%, allowing us to do so without compromising the integrity of the analysis."
   ]
  },
  {
   "cell_type": "markdown",
   "id": "c0aebd78",
   "metadata": {
    "id": "c0aebd78"
   },
   "source": [
    "#### `products` data frame"
   ]
  },
  {
   "cell_type": "code",
   "execution_count": 29,
   "id": "fe4a8b0f",
   "metadata": {
    "id": "fe4a8b0f"
   },
   "outputs": [
    {
     "name": "stdout",
     "output_type": "stream",
     "text": [
      "\n",
      "Missing Values in the Products DataFrame:\n",
      "\n",
      "product_id       0\n",
      "product_name     0\n",
      "aisle_id         0\n",
      "department_id    0\n",
      "dtype: int64\n",
      "--------------------------------------------------\n",
      "<class 'pandas.core.frame.DataFrame'>\n",
      "RangeIndex: 49694 entries, 0 to 49693\n",
      "Data columns (total 4 columns):\n",
      " #   Column         Non-Null Count  Dtype \n",
      "---  ------         --------------  ----- \n",
      " 0   product_id     49694 non-null  int64 \n",
      " 1   product_name   49694 non-null  object\n",
      " 2   aisle_id       49694 non-null  int64 \n",
      " 3   department_id  49694 non-null  int64 \n",
      "dtypes: int64(3), object(1)\n",
      "memory usage: 1.5+ MB\n"
     ]
    }
   ],
   "source": [
    "# Find missing values in the 'product_name' column\n",
    "print(\"\\nMissing Values in the Products DataFrame:\")\n",
    "print()\n",
    "print(products_df.isnull().sum())\n",
    "print('-' * 50)\n",
    "products_df.info()"
   ]
  },
  {
   "cell_type": "markdown",
   "id": "683b3d0b",
   "metadata": {},
   "source": [
    "The DataFrame of Products does not have any missing values. Before reaching this section, there were a total of 1,258 missing values in the 'product_name' column, but I decided to fill them with the value 'unknown'.\n",
    "\n",
    "I reiterate my decision: The decision to assign the label 'unknown' to null values in the 'product_name' column is based on the need to preserve the integrity of the information without losing the distinction between known and unknown products. By providing a clear designation for missing values, we ensure transparency and interpretability of the data while maintaining the structure of the original dataset. This facilitates the identification and proper handling of unknown products during analysis, without compromising the quality of the available information.\n",
    "\n",
    "A curious detail is that the names of absent products are related with the aisle ID 100 🤔🤔🤔🤔🤔🤔"
   ]
  },
  {
   "cell_type": "code",
   "execution_count": 30,
   "id": "e96167bc",
   "metadata": {
    "id": "e96167bc"
   },
   "outputs": [
    {
     "name": "stdout",
     "output_type": "stream",
     "text": [
      "       product_id product_name  aisle_id  department_id\n",
      "37             38      unknown       100             21\n",
      "71             72      unknown       100             21\n",
      "109           110      unknown       100             21\n",
      "296           297      unknown       100             21\n",
      "416           417      unknown       100             21\n",
      "...           ...          ...       ...            ...\n",
      "49552       49553      unknown       100             21\n",
      "49574       49575      unknown       100             21\n",
      "49640       49641      unknown       100             21\n",
      "49663       49664      unknown       100             21\n",
      "49668       49669      unknown       100             21\n",
      "\n",
      "[1258 rows x 4 columns]\n"
     ]
    }
   ],
   "source": [
    "print(products_df[products_df['product_name'] == 'unknown'])"
   ]
  },
  {
   "cell_type": "markdown",
   "id": "7f866be4",
   "metadata": {},
   "source": [
    "It appears that they are not only related to aisle 100; they are also related to department 21. Upon reviewing the names of this aisle and department in their respective DataFrames, both are named 'missing'"
   ]
  },
  {
   "cell_type": "code",
   "execution_count": 31,
   "id": "4fdab829",
   "metadata": {},
   "outputs": [
    {
     "name": "stdout",
     "output_type": "stream",
     "text": [
      "aisle_id        100\n",
      "aisle       missing\n",
      "Name: 99, dtype: object\n",
      "--------------------------------------------------\n",
      "department_id         21\n",
      "department       missing\n",
      "Name: 20, dtype: object\n"
     ]
    }
   ],
   "source": [
    "print(aisles_df.iloc[99])\n",
    "print('-' * 50)\n",
    "print(departments_df.iloc[20])"
   ]
  },
  {
   "cell_type": "code",
   "execution_count": 32,
   "id": "8fd0a541",
   "metadata": {
    "id": "8fd0a541"
   },
   "outputs": [
    {
     "name": "stdout",
     "output_type": "stream",
     "text": [
      "      product_name  aisle_id  department_id\n",
      "37         unknown       100             21\n",
      "71         unknown       100             21\n",
      "109        unknown       100             21\n",
      "296        unknown       100             21\n",
      "416        unknown       100             21\n",
      "...            ...       ...            ...\n",
      "49552      unknown       100             21\n",
      "49574      unknown       100             21\n",
      "49640      unknown       100             21\n",
      "49663      unknown       100             21\n",
      "49668      unknown       100             21\n",
      "\n",
      "[1258 rows x 3 columns]\n"
     ]
    }
   ],
   "source": [
    "# Are all missing product names related to department ID 21?\n",
    "print(products_df[products_df['product_name'] == 'unknown'][['product_name', 'aisle_id', 'department_id']])"
   ]
  },
  {
   "cell_type": "markdown",
   "id": "7aa90177",
   "metadata": {},
   "source": [
    "Yes, they are"
   ]
  },
  {
   "cell_type": "code",
   "execution_count": 33,
   "id": "325c3464",
   "metadata": {
    "id": "325c3464"
   },
   "outputs": [
    {
     "name": "stdout",
     "output_type": "stream",
     "text": [
      "     product_name  aisle_id  department_id    aisle department\n",
      "0         unknown       100             21  missing    missing\n",
      "1         unknown       100             21  missing    missing\n",
      "2         unknown       100             21  missing    missing\n",
      "3         unknown       100             21  missing    missing\n",
      "4         unknown       100             21  missing    missing\n",
      "...           ...       ...            ...      ...        ...\n",
      "1253      unknown       100             21  missing    missing\n",
      "1254      unknown       100             21  missing    missing\n",
      "1255      unknown       100             21  missing    missing\n",
      "1256      unknown       100             21  missing    missing\n",
      "1257      unknown       100             21  missing    missing\n",
      "\n",
      "[1258 rows x 5 columns]\n"
     ]
    }
   ],
   "source": [
    "# Use the department and aisle tables to review data for aisle ID 100 and department ID 21.\n",
    "\n",
    "# First, filter aisles_df for aisle ID 100\n",
    "product_name_unknown_df = products_df[products_df['product_name'] == 'unknown'][['product_name', 'aisle_id', 'department_id']]\n",
    "\n",
    "# Second, filter departments_df for department ID 21\n",
    "merged_df = pd.merge(product_name_unknown_df, aisles_df, on='aisle_id', how='left')\n",
    "merged_df = pd.merge(merged_df, departments_df, on='department_id', how='left')\n",
    "\n",
    "# Print the results\n",
    "print(merged_df)"
   ]
  },
  {
   "cell_type": "markdown",
   "id": "5da3ffbf",
   "metadata": {},
   "source": [
    "<b>Oh, Surprise! 😱😱😱😱😱😱</b>\n",
    "\n",
    "The values that were previously missing, and are now filled with the string \"unknown\", all belong to aisle number 100, department 21, and both mark \"missing\" in their respective names."
   ]
  },
  {
   "cell_type": "markdown",
   "id": "a67ceb13",
   "metadata": {},
   "source": [
    "Let's recap what we have here:\n",
    "\n",
    "It's clear that there's a pattern in the data. Null values in the product_name column have been replaced with \"unknown\", and these records are associated with aisle 100 and department 21, where the aisle and department names are marked as \"missing\".\n",
    "\n",
    "Since this is an online grocery store, my preliminary assumption is that the missing data in the product information, such as the product name, may be related to the addition of new products to the store's catalog. When new products are added to inventory, it may take time to complete all associated information, such as the product name, aisle, and corresponding department. Additionally, in a dynamic environment like e-commerce, some products may have faster turnover than others, leading to less frequent updates for certain product data.\n",
    "\n",
    "Another possibility is that missing data is related to managing products that are no longer available in the store. For example, if a product is discontinued or removed from inventory, its information may be marked as unknown or temporarily deleted from the system, resulting in null or unknown values in the database.\n",
    "\n",
    "To address this issue, it would be important to review the processes for adding new products and managing existing products on the Instacart platform, including their relationship with aisles and departments. This could involve improving procedures to timely collect and update product information, as well as implementing measures to properly manage discontinued or out-of-stock products. Additionally, data cleaning and completion techniques could be considered to identify and fill missing values in the database.\n"
   ]
  },
  {
   "cell_type": "markdown",
   "id": "3c18ee6d",
   "metadata": {},
   "source": [
    "#### `orders` data frame\n",
    "\n",
    "I reiterate my justification for imputing with the average:\n",
    "\n",
    "By imputing missing values in the 'days_since_prior_order' column using the average days elapsed since the last order, we are applying a strategy that preserves data integrity and provides a representative estimate of this crucial attribute in analyzing customer purchasing habits. This decision enables us to maintain the total amount of data available for analysis, which can be essential for understanding overall trends in purchasing behavior and making meaningful inferences about consumption patterns over time."
   ]
  },
  {
   "cell_type": "markdown",
   "id": "69dc9ca4",
   "metadata": {
    "id": "69dc9ca4"
   },
   "source": [
    "#### `order_products` data frame\n",
    "\n",
    "We had a total of 836 null values in the 'add_to_cart_order' column. It was decided to delete them, as they represented only 0.02% of the total records in this DataFrame (4,545,007)."
   ]
  },
  {
   "cell_type": "code",
   "execution_count": 34,
   "id": "9a78e5ee",
   "metadata": {
    "id": "9a78e5ee"
   },
   "outputs": [
    {
     "name": "stdout",
     "output_type": "stream",
     "text": [
      "Minimum value in 'add_to_cart_order': 1\n",
      "Maximum value in 'add_to_cart_order': 64\n"
     ]
    }
   ],
   "source": [
    "# What are the minimum and maximum values in this column?\n",
    "print(\"Minimum value in 'add_to_cart_order':\", order_products_df['add_to_cart_order'].min())\n",
    "print(\"Maximum value in 'add_to_cart_order':\", order_products_df['add_to_cart_order'].max())"
   ]
  },
  {
   "cell_type": "markdown",
   "id": "7e896692",
   "metadata": {},
   "source": [
    "Reiterating my decision to delete missing values: we needed to simplify the dataset and avoid potential complications from handling missing values in subsequent analyses. By removing these observations, we reduced dataset complexity and improved efficiency in subsequent analyses by working with a cleaner and more homogeneous dataset. However, it's important to assess the impact of this deletion on sample representativeness and the validity of conclusions drawn from the analysis.\n",
    "\n",
    "Regarding the minimum and maximum values in the 'add_to_cart_order' column, unless I'm mistaken, there isn't much more to say; the fact that some users have more than 60 products in an order suggests that some orders are quite large or that some customers make multiple purchases in a single transaction. In summary, these values reflect typical ordering behavior on an e-commerce platform like Instacart."
   ]
  },
  {
   "cell_type": "markdown",
   "id": "UjrOIwTcz3ri",
   "metadata": {
    "id": "UjrOIwTcz3ri"
   },
   "source": [
    "## Data Analysis - Basic\n",
    "\n",
    "Once the data is processed and ready, I will perform the following analysis and we will:\n",
    "\n",
    "1.- Verify that the values in the columns 'order_hour_of_day' and 'order_dow' in the orders table are reasonable (i.e., 'order_hour_of_day' ranges between 0 and 23, and 'order_dow' ranges between 0 and 6).\n",
    "\n",
    "2.- Create a graph showing the number of orders placed by hour of the day.\n",
    "\n",
    "3.- Create a graph showing which day of the week people make their purchases.\n",
    "\n",
    "4.- Create a graph showing how long people wait until placing their next order, and comment on the minimum and maximum values.\n",
    "\n",
    "### Sensible values"
   ]
  },
  {
   "cell_type": "code",
   "execution_count": 35,
   "id": "growing-fruit",
   "metadata": {
    "id": "growing-fruit"
   },
   "outputs": [
    {
     "name": "stdout",
     "output_type": "stream",
     "text": [
      "Do the values in the 'order_hour_of_day' column range between 0 and 23?: True\n",
      "Do the values in the 'order_dow' column range between 0 and 6?: True\n"
     ]
    }
   ],
   "source": [
    "print(\"Do the values in the 'order_hour_of_day' column range between 0 and 23?:\", instacart_orders_df['order_hour_of_day'].between(0, 23).all())\n",
    "print(\"Do the values in the 'order_dow' column range between 0 and 6?:\", instacart_orders_df['order_dow'].between(0, 6).all())"
   ]
  },
  {
   "cell_type": "markdown",
   "id": "a6743a70",
   "metadata": {
    "id": "a6743a70"
   },
   "source": [
    "The values are within the established ranges.\n",
    "\n",
    "### How many people make orders for each hour of the day?"
   ]
  },
  {
   "cell_type": "markdown",
   "id": "62333d06",
   "metadata": {},
   "source": [
    "Later on, we will begin by grouping the hours of the day and storing, for each group, the number of people placing orders."
   ]
  },
  {
   "cell_type": "code",
   "execution_count": 36,
   "id": "1af0156b",
   "metadata": {},
   "outputs": [
    {
     "name": "stdout",
     "output_type": "stream",
     "text": [
      "order_hour_of_day\n",
      "0      2991\n",
      "1      1671\n",
      "2       958\n",
      "3       744\n",
      "4       735\n",
      "5      1281\n",
      "6      3757\n",
      "7     10993\n",
      "8     20268\n",
      "9     28112\n",
      "10    32195\n",
      "11    32660\n",
      "12    31754\n",
      "13    32433\n",
      "14    32797\n",
      "15    32894\n",
      "16    31579\n",
      "17    26825\n",
      "18    21795\n",
      "19    17026\n",
      "20    12891\n",
      "21     9806\n",
      "22     7670\n",
      "23     5167\n",
      "Name: user_id, dtype: int64\n"
     ]
    }
   ],
   "source": [
    "hourly_orders = instacart_orders_df.groupby('order_hour_of_day')['user_id'].nunique()\n",
    "print(hourly_orders)"
   ]
  },
  {
   "cell_type": "markdown",
   "id": "9cad6423",
   "metadata": {},
   "source": [
    "Let's work some magic. 🧙🏻‍♂️🪄✨✨✨✨✨✨✨"
   ]
  },
  {
   "cell_type": "code",
   "execution_count": 37,
   "id": "880b64ab",
   "metadata": {},
   "outputs": [
    {
     "data": {
      "image/png": "[encoded data removed]",
      "text/plain": [
       "<Figure size 1000x600 with 1 Axes>"
      ]
     },
     "metadata": {},
     "output_type": "display_data"
    }
   ],
   "source": [
    "plt.figure(figsize=(10, 6))\n",
    "hourly_orders.plot(kind='bar')\n",
    "plt.title('Number of Orders Placed by Hour of the Day')\n",
    "plt.xlabel('Hour of the Day')\n",
    "plt.ylabel('Number of Orders')\n",
    "plt.xticks(rotation=0)\n",
    "plt.grid(axis='y', linestyle='', alpha=0.7)\n",
    "plt.show()\n"
   ]
  },
  {
   "cell_type": "markdown",
   "id": "001d9483",
   "metadata": {},
   "source": [
    "It's clear to me that the majority of people placing orders concentrate between 10 AM and 4 PM."
   ]
  },
  {
   "cell_type": "markdown",
   "id": "documented-command",
   "metadata": {
    "id": "documented-command"
   },
   "source": [
    "### Days of the week when people buy groceries"
   ]
  },
  {
   "cell_type": "markdown",
   "id": "9f1ab17c",
   "metadata": {},
   "source": [
    "Before we continue, let's make a slight modification to the Instacart Orders DataFrame 🧙🏻‍♂️🪄✨✨✨✨✨\n",
    "Let's add an additional seventh column called 'day_of_week' that gives us the names of the day of the week:"
   ]
  },
  {
   "cell_type": "code",
   "execution_count": 38,
   "id": "chief-digit",
   "metadata": {
    "id": "chief-digit"
   },
   "outputs": [
    {
     "name": "stdout",
     "output_type": "stream",
     "text": [
      "        order_id  user_id  order_number  order_dow  order_hour_of_day  \\\n",
      "347341    874427   165994             9          1                 15   \n",
      "257581    422483    10704            33          2                 15   \n",
      "271952   2307372     4698             4          0                 17   \n",
      "285187   1657248   183125             1          3                 15   \n",
      "438170   1815627    24294            22          4                 15   \n",
      "136992   2095649     7161            14          4                  9   \n",
      "64483    3148647   102178             9          3                 16   \n",
      "260718    842883    67337            56          2                 12   \n",
      "471584    304731   167061            28          4                  7   \n",
      "165664   3175827    17302             3          6                  9   \n",
      "\n",
      "        days_since_prior_order day_of_week  \n",
      "347341                      30      Monday  \n",
      "257581                       7     Tuesday  \n",
      "271952                       9      Sunday  \n",
      "285187                      11   Wednesday  \n",
      "438170                       1    Thursday  \n",
      "136992                      17    Thursday  \n",
      "64483                       19   Wednesday  \n",
      "260718                      10     Tuesday  \n",
      "471584                      22    Thursday  \n",
      "165664                      11    Saturday  \n"
     ]
    }
   ],
   "source": [
    "day_mapping = {\n",
    "    0: 'Sunday',\n",
    "    1: 'Monday',\n",
    "    2: 'Tuesday',\n",
    "    3: 'Wednesday',\n",
    "    4: 'Thursday',\n",
    "    5: 'Friday',\n",
    "    6: 'Saturday'\n",
    "}\n",
    "\n",
    "instacart_orders_df['day_of_week'] = instacart_orders_df['order_dow'].map(day_mapping)\n",
    "print(instacart_orders_df.sample(10))"
   ]
  },
  {
   "cell_type": "markdown",
   "id": "9d7ef7a8",
   "metadata": {},
   "source": [
    "Later on, we will start grouping the number of people placing orders for each day of the week."
   ]
  },
  {
   "cell_type": "code",
   "execution_count": 39,
   "id": "e121566d",
   "metadata": {},
   "outputs": [
    {
     "name": "stdout",
     "output_type": "stream",
     "text": [
      "day_of_week\n",
      "Friday       46127\n",
      "Monday       56479\n",
      "Saturday     45604\n",
      "Sunday       57661\n",
      "Thursday     44281\n",
      "Tuesday      48587\n",
      "Wednesday    45331\n",
      "Name: user_id, dtype: int64\n"
     ]
    }
   ],
   "source": [
    "daily_orders = instacart_orders_df.groupby('day_of_week')['user_id'].nunique()\n",
    "print(daily_orders)"
   ]
  },
  {
   "cell_type": "code",
   "execution_count": 40,
   "id": "d814d734",
   "metadata": {},
   "outputs": [
    {
     "data": {
      "image/png": "[encoded data removed]",
      "text/plain": [
       "<Figure size 1000x600 with 1 Axes>"
      ]
     },
     "metadata": {},
     "output_type": "display_data"
    }
   ],
   "source": [
    "plt.figure(figsize=(10, 6))\n",
    "daily_orders.plot(kind='bar')\n",
    "plt.title('Number of Orders Placed by Day of the Week')\n",
    "plt.xlabel('Day of the Week')\n",
    "plt.ylabel('Number of Orders')\n",
    "plt.xticks(rotation=0)\n",
    "plt.grid(axis='y', linestyle='', alpha=0.7)\n",
    "plt.show()\n"
   ]
  },
  {
   "cell_type": "markdown",
   "id": "6bdc78e3",
   "metadata": {},
   "source": [
    "The days came out unordered. Damn!\n",
    "We'll have to resort to a slight redundancy of variables to reorder them."
   ]
  },
  {
   "cell_type": "code",
   "execution_count": 41,
   "id": "138b9b85",
   "metadata": {},
   "outputs": [
    {
     "data": {
      "image/png": "[encoded data removed]",
      "text/plain": [
       "<Figure size 1000x600 with 1 Axes>"
      ]
     },
     "metadata": {},
     "output_type": "display_data"
    }
   ],
   "source": [
    "# Create a list with days ordered, respecting the original order of the 'order_dow' column:\n",
    "ordered_days = ['Sunday', 'Monday', 'Tuesday', 'Wednesday', 'Thursday', 'Friday', 'Saturday']\n",
    "\n",
    "# Apply the reindex method to the daily_orders variable that contains our grouped data for plotting:\n",
    "daily_orders = daily_orders.reindex(ordered_days)\n",
    "\n",
    "# Now create the plot\n",
    "plt.figure(figsize=(10, 6))\n",
    "daily_orders.plot(kind='bar')\n",
    "plt.title('Number of Orders Placed by Day of the Week')\n",
    "plt.xlabel('')\n",
    "plt.ylabel('Number of Orders')\n",
    "plt.xticks(rotation=0)\n",
    "plt.grid(axis='y', linestyle='', alpha=0.7)\n",
    "plt.show()\n"
   ]
  },
  {
   "cell_type": "markdown",
   "id": "b816064e",
   "metadata": {},
   "source": [
    "It's clear that Sundays and Mondays are the days when most people place orders."
   ]
  },
  {
   "cell_type": "markdown",
   "id": "cutting-concert",
   "metadata": {
    "id": "cutting-concert"
   },
   "source": [
    "### How long do people wait before placing another order?"
   ]
  },
  {
   "cell_type": "markdown",
   "id": "f4d32248",
   "metadata": {},
   "source": [
    "To answer this question, it seems that a histogram is the appropriate visualization to understand the distribution of time intervals between successive orders.\n",
    "\n",
    "By using this graph, we can easily identify the most common time intervals in which customers place their orders, allowing us to better understand their purchasing habits and enabling Instacart to plan more effective business strategies.\n",
    "\n",
    "We'll start by verifying the minimum and maximum values in the days_since_prior_order column, as knowing these will help us create appropriate bins:"
   ]
  },
  {
   "cell_type": "code",
   "execution_count": 42,
   "id": "450e521f",
   "metadata": {},
   "outputs": [
    {
     "name": "stdout",
     "output_type": "stream",
     "text": [
      "Minimum value in 'days_since_prior_order': 0\n",
      "Maximum value in 'days_since_prior_order': 30\n"
     ]
    }
   ],
   "source": [
    "print(\"Minimum value in 'days_since_prior_order':\", instacart_orders_df['days_since_prior_order'].min())\n",
    "print(\"Maximum value in 'days_since_prior_order':\", instacart_orders_df['days_since_prior_order'].max())"
   ]
  },
  {
   "cell_type": "markdown",
   "id": "4a419d51",
   "metadata": {},
   "source": [
    "Perfect, with this number in mind, we will use 30 days as the basis for our bins."
   ]
  },
  {
   "cell_type": "code",
   "execution_count": 43,
   "id": "c231f523",
   "metadata": {
    "id": "c231f523"
   },
   "outputs": [
    {
     "data": {
      "image/png": "[encoded data removed]",
      "text/plain": [
       "<Figure size 1000x600 with 1 Axes>"
      ]
     },
     "metadata": {},
     "output_type": "display_data"
    }
   ],
   "source": [
    "plt.figure(figsize=(10, 6))\n",
    "plt.hist(instacart_orders_df['days_since_prior_order'], bins=30, edgecolor='black')\n",
    "plt.title('Histogram of Time Intervals Between Orders')\n",
    "plt.xlabel('Days Since Previous Order')\n",
    "plt.ylabel('Frequency')\n",
    "plt.grid(axis='y', linestyle='--', alpha=0.7)\n",
    "plt.show()\n"
   ]
  },
  {
   "cell_type": "markdown",
   "id": "5200075e",
   "metadata": {},
   "source": [
    "To be honest, it wasn't clear to me during the Sprint how Python (Matplotlib) knows the frequencies at which purchases should occur on a given day.\n",
    "\n",
    "Later on, I took the liberty of plotting a grouping that shows how many people wait to shop for each of the established days. First, we start by creating that grouping."
   ]
  },
  {
   "cell_type": "code",
   "execution_count": 44,
   "id": "78b38d25",
   "metadata": {},
   "outputs": [
    {
     "name": "stdout",
     "output_type": "stream",
     "text": [
      "    Days Since Previous Order  Number of Users\n",
      "0                           0             7532\n",
      "1                           1            13286\n",
      "2                           2            17552\n",
      "3                           3            20426\n",
      "4                           4            22347\n",
      "5                           5            23330\n",
      "6                           6            26812\n",
      "7                           7            32021\n",
      "8                           8            21772\n",
      "9                           9            15354\n",
      "10                         10            12412\n",
      "11                         11            38208\n",
      "12                         12            10177\n",
      "13                         13            11172\n",
      "14                         14            13080\n",
      "15                         15             9044\n",
      "16                         16             6411\n",
      "17                         17             5368\n",
      "18                         18             4896\n",
      "19                         19             4835\n",
      "20                         20             5187\n",
      "21                         21             6276\n",
      "22                         22             4439\n",
      "23                         23             3285\n",
      "24                         24             2974\n",
      "25                         25             2690\n",
      "26                         26             2620\n",
      "27                         27             2961\n",
      "28                         28             3684\n",
      "29                         29             2647\n",
      "30                         30            44444\n"
     ]
    }
   ],
   "source": [
    "days_since_prior_order_counts = instacart_orders_df.groupby('days_since_prior_order')['user_id'].nunique().reset_index()\n",
    "\n",
    "# Rename columns for better readability:\n",
    "days_since_prior_order_counts.columns = ['Days Since Previous Order', 'Number of Users']\n",
    "\n",
    "print(days_since_prior_order_counts)\n"
   ]
  },
  {
   "cell_type": "code",
   "execution_count": 45,
   "id": "76b1aec2",
   "metadata": {},
   "outputs": [
    {
     "data": {
      "image/png": "[encoded data removed]",
      "text/plain": [
       "<Figure size 1000x600 with 1 Axes>"
      ]
     },
     "metadata": {},
     "output_type": "display_data"
    }
   ],
   "source": [
    "plt.figure(figsize=(10, 6))\n",
    "plt.bar(days_since_prior_order_counts['Days Since Previous Order'], days_since_prior_order_counts['Number of Users'])\n",
    "plt.title('Number of Users by Days Since Previous Order')\n",
    "plt.xlabel('Days Since Previous Order')\n",
    "plt.ylabel('Number of Users')\n",
    "plt.grid(axis='y', linestyle='--', alpha=0.7)\n",
    "plt.show()\n"
   ]
  },
  {
   "cell_type": "markdown",
   "id": "3302f001",
   "metadata": {},
   "source": [
    "<b>Surprise!</b>, Here it seems there is a correlation.\n",
    "\n",
    "The histogram of time until the next order revealed that most of the time, customers wait around 30 days between each order. This suggests that a 30-day interval between purchases is more common. However, we also observed that frequencies of 8 and 12 days are recurring, indicating that some customers tend to place orders at these time intervals.\n",
    "\n",
    "When we proceeded to create a graph showing the number of users per waiting days, we observed a pattern similar to the histogram. The highest concentration of users is found in the 30-day interval, suggesting a widespread preference for this waiting period. However, this graph also highlights a notable preference for a 12-day interval compared to 8 days.\n",
    "\n",
    "In conclusion, we can say that Instacart customers generally wait 30, 12, 8, and 7 days to make their purchases.\n",
    "\n",
    "Based on the findings, we can conclude that the majority of shopping traffic on Instacart occurs during the morning and afternoon hours, specifically between 10 am and 4 pm.\n",
    "\n",
    "Additionally, we have observed that the days with the highest shopping activity are Sundays and Mondays, suggesting these are key times to drive promotions and special offers.\n",
    "\n",
    "Regarding preferred waiting days among users, intervals of 30, 12, 8, and 7 days stand out, indicating that customers have varied preferences regarding the time they wait between orders. However, these intervals suggest common ingrained habits such as monthly, bi-weekly, or weekly shopping routines, which are typical in this industry.\n",
    "\n",
    "Considering these findings, Instacart could leverage these periods of peak activity to launch promotional campaigns targeted at the busiest days of the week. They could also devise strategies to boost sales during quieter days and times.\n",
    "\n",
    "Finally, the platform could personalize offers and product recommendations based on users' preferred waiting intervals, potentially enhancing customer satisfaction and fostering brand loyalty."
   ]
  },
  {
   "cell_type": "markdown",
   "id": "tight-staff",
   "metadata": {
    "id": "tight-staff"
   },
   "source": [
    "## Data Analysis - Intermediate\n",
    "\n",
    "- 1.- Is there any difference between the distributions of 'order_hour_of_day' on Wednesdays and Saturdays? I will plot bar charts of 'order_hour_of_day' for both days on the same figure and describe the differences I observe.\n",
    "\n",
    "- 2.- I will plot the distribution for the number of orders made by customers (i.e., how many customers placed only 1 order, how many placed 2, how many placed 3, and so on...).\n",
    "\n",
    "- 3.- What are the top 20 products that are most frequently ordered? I will show their identification and name."
   ]
  },
  {
   "cell_type": "markdown",
   "id": "packed-classic",
   "metadata": {
    "id": "packed-classic"
   },
   "source": [
    "### Difference between Wednesday and Saturday for 'order_hour_of_day'."
   ]
  },
  {
   "cell_type": "markdown",
   "id": "b8f07556",
   "metadata": {},
   "source": [
    "Alright, let's start by filtering the days into separate variables."
   ]
  },
  {
   "cell_type": "code",
   "execution_count": 46,
   "id": "d89b8403",
   "metadata": {
    "id": "d89b8403"
   },
   "outputs": [
    {
     "name": "stdout",
     "output_type": "stream",
     "text": [
      "6     Wednesday\n",
      "16    Wednesday\n",
      "28    Wednesday\n",
      "30    Wednesday\n",
      "35    Wednesday\n",
      "Name: day_of_week, dtype: object\n",
      "__________________________________________________\n",
      "0     Saturday\n",
      "11    Saturday\n",
      "14    Saturday\n",
      "20    Saturday\n",
      "26    Saturday\n",
      "Name: day_of_week, dtype: object\n"
     ]
    }
   ],
   "source": [
    "wednesday_orders = instacart_orders_df[instacart_orders_df['day_of_week'] == 'Wednesday']\n",
    "saturday_orders = instacart_orders_df[instacart_orders_df['day_of_week'] == 'Saturday']\n",
    "\n",
    "print(wednesday_orders['day_of_week'].head())\n",
    "print('_'*50)\n",
    "print(saturday_orders['day_of_week'].head())"
   ]
  },
  {
   "cell_type": "markdown",
   "id": "6dc29fc2",
   "metadata": {},
   "source": [
    "Now we're going to count the orders per hour for each of those days. We'll use the .value_counts method to get these frequencies and add .sort_index to sort them in ascending order."
   ]
  },
  {
   "cell_type": "code",
   "execution_count": 47,
   "id": "621e1598",
   "metadata": {},
   "outputs": [
    {
     "name": "stdout",
     "output_type": "stream",
     "text": [
      "Order count per hour on Wednesday\n",
      "\n",
      "order_hour_of_day\n",
      "0      373\n",
      "1      215\n",
      "2      121\n",
      "3      101\n",
      "4      108\n",
      "5      170\n",
      "6      643\n",
      "7     1732\n",
      "8     3125\n",
      "9     4490\n",
      "10    5026\n",
      "11    5004\n",
      "12    4688\n",
      "13    4674\n",
      "14    4774\n",
      "15    5163\n",
      "16    4976\n",
      "17    4175\n",
      "18    3463\n",
      "19    2652\n",
      "20    1917\n",
      "21    1450\n",
      "22    1154\n",
      "23     718\n",
      "Name: count, dtype: int64\n",
      "__________________________________________________\n",
      "Order count per hour on Saturday\n",
      "\n",
      "order_hour_of_day\n",
      "0      464\n",
      "1      254\n",
      "2      177\n",
      "3      125\n",
      "4      118\n",
      "5      161\n",
      "6      451\n",
      "7     1619\n",
      "8     3246\n",
      "9     4311\n",
      "10    4919\n",
      "11    5116\n",
      "12    5132\n",
      "13    5323\n",
      "14    5375\n",
      "15    5188\n",
      "16    5029\n",
      "17    4295\n",
      "18    3338\n",
      "19    2610\n",
      "20    1847\n",
      "21    1473\n",
      "22    1185\n",
      "23     893\n",
      "Name: count, dtype: int64\n"
     ]
    }
   ],
   "source": [
    "# Count the number of orders placed each hour of the day for Wednesdays\n",
    "wednesday_order_hours = wednesday_orders['order_hour_of_day'].value_counts().sort_index()\n",
    "\n",
    "# Count the number of orders placed each hour of the day for Saturdays\n",
    "saturday_order_hours = saturday_orders['order_hour_of_day'].value_counts().sort_index()\n",
    "\n",
    "print('Order count per hour on Wednesday')\n",
    "print()\n",
    "print(wednesday_order_hours.head(24))\n",
    "print('_'*50)\n",
    "print('Order count per hour on Saturday')\n",
    "print()\n",
    "print(saturday_order_hours.head(24))"
   ]
  },
  {
   "cell_type": "markdown",
   "id": "8e7f7bf5",
   "metadata": {},
   "source": [
    "We proceed to create our plot that will compare both variables."
   ]
  },
  {
   "cell_type": "code",
   "execution_count": 48,
   "id": "35bcea30",
   "metadata": {
    "id": "35bcea30"
   },
   "outputs": [
    {
     "data": {
      "image/png": "[encoded data removed]",
      "text/plain": [
       "<Figure size 1000x600 with 1 Axes>"
      ]
     },
     "metadata": {},
     "output_type": "display_data"
    }
   ],
   "source": [
    "# Create the figure and axes\n",
    "fig, ax = plt.subplots(figsize=(10, 6))\n",
    "\n",
    "# Plot the bars for orders placed on Wednesdays\n",
    "ax.bar(wednesday_order_hours.index, wednesday_order_hours.values, width=0.4, label='Wednesday')\n",
    "\n",
    "# Plot the bars for orders placed on Saturdays, slightly offset to avoid overlap\n",
    "ax.bar(saturday_order_hours.index + 0.4, saturday_order_hours.values, width=0.4, label='Saturday')\n",
    "\n",
    "# Add labels and title\n",
    "ax.set_xlabel('Hour of the day')\n",
    "ax.set_ylabel('Number of orders')\n",
    "ax.set_title('Distribution of orders by hour on Wednesdays and Saturdays')\n",
    "ax.set_xticks(range(24))\n",
    "ax.legend()\n",
    "\n",
    "# Show the plot\n",
    "plt.show()\n"
   ]
  },
  {
   "cell_type": "markdown",
   "id": "f43938c8",
   "metadata": {},
   "source": [
    "When comparing the order counts per hour between Wednesday and Saturday, several differences can be observed:\n",
    "\n",
    "- a.- Peak Hours: On Wednesday, peak hours appear to be between 9 am and 4 pm, with a particularly high peak around 3 pm. In contrast, on Saturday, peak hours are also between 9 am and 4 pm, but with a more pronounced peak around 1 pm and 2 pm.\n",
    "\n",
    "- b.- Traffic Distribution: Overall, orders on Wednesday seem to be more evenly distributed throughout the day, with a gradual decline towards the evening. In contrast, on Saturday, there is a more concentrated distribution during the morning and afternoon hours, with a steeper decline towards the night.\n",
    "\n",
    "- c.- Order Volume: The total number of orders appears to be higher on Saturday compared to Wednesday, indicating increased shopping activity during the weekend.\n",
    "\n",
    "These differences may reflect shopping habits and consumer behavior during weekdays versus weekends."
   ]
  },
  {
   "cell_type": "markdown",
   "id": "e3891143",
   "metadata": {
    "id": "e3891143"
   },
   "source": [
    "### Distribution for the number of orders per customer"
   ]
  },
  {
   "cell_type": "markdown",
   "id": "0819e934",
   "metadata": {},
   "source": [
    "First, we start by grouping the count of orders per customer:"
   ]
  },
  {
   "cell_type": "code",
   "execution_count": 49,
   "id": "d8c26c23",
   "metadata": {
    "id": "d8c26c23"
   },
   "outputs": [
    {
     "name": "stdout",
     "output_type": "stream",
     "text": [
      "user_id\n",
      "2         2\n",
      "4         2\n",
      "5         1\n",
      "6         2\n",
      "7         2\n",
      "         ..\n",
      "206203    1\n",
      "206206    7\n",
      "206207    5\n",
      "206208    9\n",
      "206209    2\n",
      "Name: order_id, Length: 157437, dtype: int64\n"
     ]
    }
   ],
   "source": [
    "orders_per_user = instacart_orders_df.groupby('user_id')['order_id'].count()\n",
    "print(orders_per_user)"
   ]
  },
  {
   "cell_type": "markdown",
   "id": "640870c9",
   "metadata": {},
   "source": [
    "With this information, we create a histogram:"
   ]
  },
  {
   "cell_type": "code",
   "execution_count": 50,
   "id": "00e69a66",
   "metadata": {
    "id": "00e69a66"
   },
   "outputs": [
    {
     "data": {
      "image/png": "[encoded data removed]",
      "text/plain": [
       "<Figure size 1000x600 with 1 Axes>"
      ]
     },
     "metadata": {},
     "output_type": "display_data"
    }
   ],
   "source": [
    "plt.figure(figsize=(10, 6))\n",
    "plt.hist(orders_per_user, bins=range(1, orders_per_user.max() + 2), edgecolor='black')\n",
    "plt.title('Distribution of number of orders per customer')\n",
    "plt.xlabel('Number of orders')\n",
    "plt.ylabel('Number of customers')\n",
    "plt.grid(axis='y', alpha=0.7)\n",
    "plt.show()"
   ]
  },
  {
   "cell_type": "markdown",
   "id": "fdb60878",
   "metadata": {},
   "source": [
    "Here are my observations:\n",
    "\n",
    "- a.- The number of orders per customer varies significantly, ranging from 1 to 9 orders.\n",
    "\n",
    "- b.- Most customers appear to have placed a relatively low number of orders, as the maximum number of orders per customer is 9, and many customers placed only 1 or 2 orders.\n",
    "\n",
    "- c.- However, there are also some customers who placed a considerably higher number of orders, with a maximum of 9 orders.\n",
    "\n",
    "- d.- This suggests that there is diversity in customer purchasing behavior; some may be occasional shoppers while others are more frequent or regular in their purchases.\n",
    "\n",
    "In summary, the distribution of the number of orders per customer is varied, with a concentration on a relatively low number of orders per customer, but also including some customers who place a significantly higher number of orders."
   ]
  },
  {
   "cell_type": "markdown",
   "id": "54a0319c",
   "metadata": {
    "id": "54a0319c"
   },
   "source": [
    "### Top 20 most popular products (showing their ID and name)"
   ]
  },
  {
   "cell_type": "markdown",
   "id": "ad634cd3",
   "metadata": {},
   "source": [
    "Okay, first we start by counting the best-selling products ordered from highest to lowest:"
   ]
  },
  {
   "cell_type": "code",
   "execution_count": 51,
   "id": "exterior-arizona",
   "metadata": {
    "id": "exterior-arizona",
    "scrolled": true
   },
   "outputs": [
    {
     "name": "stdout",
     "output_type": "stream",
     "text": [
      "    product_id  popularity_count\n",
      "0        24852             66046\n",
      "1        13176             53295\n",
      "2        21137             37035\n",
      "3        21903             33970\n",
      "4        47209             29772\n",
      "5        47766             24689\n",
      "6        47626             21495\n",
      "7        16797             20017\n",
      "8        26209             19689\n",
      "9        27845             19600\n",
      "10       27966             19194\n",
      "11       22935             15897\n",
      "12       24964             15290\n",
      "13       45007             14584\n",
      "14       39275             13879\n",
      "15       49683             13674\n",
      "16       28204             12544\n",
      "17        5876             12231\n",
      "18        8277             11992\n",
      "19       40706             11781\n"
     ]
    }
   ],
   "source": [
    "product_popularity = order_products_df['product_id'].value_counts().reset_index()\n",
    "product_popularity.columns = ['product_id', 'popularity_count']\n",
    "print(product_popularity.head(20))"
   ]
  },
  {
   "cell_type": "markdown",
   "id": "d1531dac",
   "metadata": {},
   "source": [
    "Now, we apply the .merge method to the newly created variable and the products_df DataFrame, which will display the columns 'product_id', the product count, and the product name. The merge is based on the column they both share ('product_id')."
   ]
  },
  {
   "cell_type": "code",
   "execution_count": 52,
   "id": "universal-facial",
   "metadata": {
    "id": "universal-facial"
   },
   "outputs": [
    {
     "name": "stdout",
     "output_type": "stream",
     "text": [
      "    product_id  popularity_count              product_name\n",
      "0        24852             66046                    Banana\n",
      "1        13176             53295    Bag of Organic Bananas\n",
      "2        21137             37035      Organic Strawberries\n",
      "3        21903             33970      Organic Baby Spinach\n",
      "4        47209             29772      Organic Hass Avocado\n",
      "5        47766             24689           Organic Avocado\n",
      "6        47626             21495               Large Lemon\n",
      "7        16797             20017              Strawberries\n",
      "8        26209             19689                     Limes\n",
      "9        27845             19600        Organic Whole Milk\n",
      "10       27966             19194       Organic Raspberries\n",
      "11       22935             15897      Organic Yellow Onion\n",
      "12       24964             15290            Organic Garlic\n",
      "13       45007             14584          Organic Zucchini\n",
      "14       39275             13879       Organic Blueberries\n",
      "15       49683             13674            Cucumber Kirby\n",
      "16       28204             12544        Organic Fuji Apple\n",
      "17        5876             12231             Organic Lemon\n",
      "18        8277             11992  Apple Honeycrisp Organic\n",
      "19       40706             11781    Organic Grape Tomatoes\n"
     ]
    }
   ],
   "source": [
    "popular_products = pd.merge(product_popularity.head(20), products_df[['product_id', 'product_name']], on='product_id')\n",
    "print(popular_products.head(20))"
   ]
  },
  {
   "cell_type": "markdown",
   "id": "3ae9af03",
   "metadata": {},
   "source": [
    "I will plot this table as a horizontal bar chart to get a better understanding of the top-selling products."
   ]
  },
  {
   "cell_type": "code",
   "execution_count": 53,
   "id": "7886b088",
   "metadata": {},
   "outputs": [
    {
     "data": {
      "image/png": "[encoded data removed]",
      "text/plain": [
       "<Figure size 1200x800 with 1 Axes>"
      ]
     },
     "metadata": {},
     "output_type": "display_data"
    }
   ],
   "source": [
    "plt.figure(figsize=(12, 8))\n",
    "plt.barh(popular_products['product_name'], popular_products['popularity_count'])\n",
    "\n",
    "plt.xlabel('Number of orders')\n",
    "plt.ylabel('Product name')\n",
    "plt.title('Most Popular Products on Instacart')\n",
    "\n",
    "plt.gca().invert_yaxis()\n",
    "\n",
    "plt.show()\n"
   ]
  },
  {
   "cell_type": "markdown",
   "id": "f19208f8",
   "metadata": {},
   "source": [
    "<b>Here are my conclusions:</b>\n",
    "\n",
    "<b>a.- Most popular products:</b> The most popular products are mainly organic fruits and vegetables, suggesting that Instacart's customers have a preference for fresh, healthy, and organic products.\n",
    "\n",
    "Instacart likely already understands its customers well. If not, this table provides valuable insights that could contribute to better marketing campaigns and overall strategy.\n",
    "\n",
    "<b>b.- Product diversity:</b> Although the most popular products are predominantly fruits and vegetables, there is also a significant presence of other products, such as dairy.\n",
    "\n",
    "In summary, the results reflect a trend towards a healthy lifestyle and environmental consciousness."
   ]
  },
  {
   "cell_type": "markdown",
   "id": "gross-theme",
   "metadata": {
    "id": "gross-theme"
   },
   "source": [
    "## Data Analysis - Advanced\n",
    "\n",
    "- 1.- How many items do people usually buy per order? What is the distribution like?\n",
    "\n",
    "- 2.- What are the top 20 items that are most frequently reordered (show their names and product IDs)?\n",
    "\n",
    "- 3.- For each product, what is the reorder rate (number of reorder occurrences / total orders)?\n",
    "\n",
    "- 4.- For each customer, what proportion of the products they ordered had already been ordered before? Calculate the reorder rate for each user instead of for each product.\n",
    "\n",
    "- 5.- What are the top 20 items that people add first to their carts (show the product IDs, their names, and the number of times they were the first item added to the cart)?"
   ]
  },
  {
   "cell_type": "markdown",
   "id": "romantic-deposit",
   "metadata": {
    "id": "romantic-deposit"
   },
   "source": [
    "### Count of items people typically buy in an order."
   ]
  },
  {
   "cell_type": "markdown",
   "id": "72ad43b8",
   "metadata": {},
   "source": [
    "Okay, in this attempt, what I will do is calculate the average number of items per order for each user, assuming that the statement 'how many items do people NORMALLY buy in an order' is asking precisely for an average."
   ]
  },
  {
   "cell_type": "code",
   "execution_count": 54,
   "id": "sensitive-breathing",
   "metadata": {
    "id": "sensitive-breathing"
   },
   "outputs": [
    {
     "name": "stdout",
     "output_type": "stream",
     "text": [
      "Average items per order per user: user_id\n",
      "2          2.500000\n",
      "4          4.000000\n",
      "5          4.000000\n",
      "6          2.500000\n",
      "7         16.000000\n",
      "            ...    \n",
      "206203     2.000000\n",
      "206206    35.142857\n",
      "206207     8.000000\n",
      "206208    23.555556\n",
      "206209     8.500000\n",
      "Name: order_number, Length: 157437, dtype: float64\n",
      "\n",
      "Minimum average per user: 1.0\n",
      "\n",
      "Maximum average per user: 83.66666666666667\n"
     ]
    }
   ],
   "source": [
    "average_items_per_order = instacart_orders_df.groupby('user_id')['order_number'].mean()\n",
    "\n",
    "print(\"Average items per order per user:\", average_items_per_order)\n",
    "print()\n",
    "print(\"Minimum average per user:\", average_items_per_order.min())\n",
    "print()\n",
    "print(\"Maximum average per user:\", average_items_per_order.max())"
   ]
  },
  {
   "cell_type": "markdown",
   "id": "c0dd447e",
   "metadata": {},
   "source": [
    "Later, we created that histogram with 83 bins for a better appreciation of the distributions."
   ]
  },
  {
   "cell_type": "code",
   "execution_count": 55,
   "id": "completed-frank",
   "metadata": {
    "id": "completed-frank"
   },
   "outputs": [
    {
     "data": {
      "image/png": "[encoded data removed]",
      "text/plain": [
       "<Figure size 1000x600 with 1 Axes>"
      ]
     },
     "metadata": {},
     "output_type": "display_data"
    }
   ],
   "source": [
    "plt.figure(figsize=(10, 6))\n",
    "plt.hist(average_items_per_order, bins=83, edgecolor='black')\n",
    "plt.title('Distribution of number of items per order')\n",
    "plt.xlabel('Average number of items per user order')\n",
    "plt.ylabel('Frequency')\n",
    "plt.show()"
   ]
  },
  {
   "cell_type": "markdown",
   "id": "c6e07499",
   "metadata": {},
   "source": [
    "The histogram shows us that the highest frequency of average item numbers per user order is 4 items. In other words, NORMALLY, a person buys 4 items per purchase.\n",
    "\n",
    "### Top 20 items that are most frequently reordered\n",
    "\n",
    "We started by filtering all products that have been reordered at least once, where 0 means a customer has never reordered it and 1 means they have. Next, we counted how many times each filtered product has been reordered."
   ]
  },
  {
   "cell_type": "code",
   "execution_count": 56,
   "id": "9374e55a",
   "metadata": {
    "id": "9374e55a"
   },
   "outputs": [
    {
     "name": "stdout",
     "output_type": "stream",
     "text": [
      "   product_id  reorder_count\n",
      "0       24852          55761\n",
      "1       13176          44448\n",
      "2       21137          28637\n",
      "3       21903          26232\n",
      "4       47209          23628\n"
     ]
    }
   ],
   "source": [
    "reordered_products = order_products_df[order_products_df['reordered'] == 1]\n",
    "\n",
    "reordered_product_counts = reordered_products['product_id'].value_counts().reset_index()\n",
    "reordered_product_counts.columns = ['product_id', 'reorder_count']\n",
    "\n",
    "print(reordered_product_counts.head())"
   ]
  },
  {
   "cell_type": "markdown",
   "id": "90875295",
   "metadata": {
    "id": "possible-change",
    "scrolled": true
   },
   "source": [
    "Okay, in this previous table, we're already starting to see some familiar IDs. I'll proceed to label them with their names."
   ]
  },
  {
   "cell_type": "code",
   "execution_count": 57,
   "id": "32f039bd",
   "metadata": {},
   "outputs": [
    {
     "name": "stdout",
     "output_type": "stream",
     "text": [
      "    product_id  reorder_count              product_name\n",
      "0        24852          55761                    Banana\n",
      "1        13176          44448    Bag of Organic Bananas\n",
      "2        21137          28637      Organic Strawberries\n",
      "3        21903          26232      Organic Baby Spinach\n",
      "4        47209          23628      Organic Hass Avocado\n",
      "5        47766          18743           Organic Avocado\n",
      "6        27845          16251        Organic Whole Milk\n",
      "7        47626          15044               Large Lemon\n",
      "8        27966          14747       Organic Raspberries\n",
      "9        16797          13944              Strawberries\n",
      "10       26209          13326                     Limes\n",
      "11       22935          11144      Organic Yellow Onion\n",
      "12       24964          10409            Organic Garlic\n",
      "13       45007          10076          Organic Zucchini\n",
      "14       49683           9538            Cucumber Kirby\n",
      "15       28204           8989        Organic Fuji Apple\n",
      "16        8277           8835  Apple Honeycrisp Organic\n",
      "17       39275           8799       Organic Blueberries\n",
      "18        5876           8411             Organic Lemon\n",
      "19       49235           8389       Organic Half & Half\n"
     ]
    }
   ],
   "source": [
    "popular_reordered_products = pd.merge(reordered_product_counts, products_df[['product_id', 'product_name']], on='product_id')\n",
    "\n",
    "print(popular_reordered_products.head(20))"
   ]
  },
  {
   "cell_type": "markdown",
   "id": "2bc46136",
   "metadata": {},
   "source": [
    "When creating this table of the top 20 most reordered products, it's impossible not to compare it with the list of the 20 most popular products we compiled earlier. In that comparison, we can identify interesting patterns in customer purchasing preferences.\n",
    "\n",
    "Naturally, when noting similarities, we observe a tendency towards organic products, fruits, vegetables, and dairy products in both lists. The presence of items like 'Banana,' 'Bag of Organic Bananas,' 'Organic Strawberries,' and 'Organic Baby Spinach' suggests that these items are essential in customers' grocery purchases.\n",
    "\n",
    "However, while the order of these products varies slightly between the two categories, it suggests that although these products are highly popular among customers, the frequency of their reordering would prompt the company to reconsider inventory planning and marketing strategies on Instacart.\n",
    "\n",
    "### For each product, what is the proportion of times it is ordered and reordered?\n",
    "\n",
    "Starting with the base of having a total of 4,544,171 ordered products, we will add an additional column to our already existing table of the top 20 most reordered products."
   ]
  },
  {
   "cell_type": "code",
   "execution_count": 58,
   "id": "8ae9f4b1",
   "metadata": {
    "id": "8ae9f4b1"
   },
   "outputs": [
    {
     "name": "stdout",
     "output_type": "stream",
     "text": [
      "Reorder rate of products in percentage\n",
      "\n",
      "       product_id                                product_name  reorder_count  \\\n",
      "0           24852                                      Banana          55761   \n",
      "1           13176                      Bag of Organic Bananas          44448   \n",
      "2           21137                        Organic Strawberries          28637   \n",
      "3           21903                        Organic Baby Spinach          26232   \n",
      "4           47209                        Organic Hass Avocado          23628   \n",
      "...           ...                                         ...            ...   \n",
      "36222       20864  Toilet Wand with Storage Caddy Starter Kit              1   \n",
      "36223       42353            Original Creamy Hot Wheat Cereal              1   \n",
      "36224       41991                  Chicken Parmesan and Penne              1   \n",
      "36225       27600                      Milk Chocolate Peanuts              1   \n",
      "36226       47673  Toast Chee Peanut Butter Sandwich Crackers              1   \n",
      "\n",
      "       reorder_rate  \n",
      "0          1.227089  \n",
      "1          0.978132  \n",
      "2          0.630192  \n",
      "3          0.577267  \n",
      "4          0.519963  \n",
      "...             ...  \n",
      "36222      0.000022  \n",
      "36223      0.000022  \n",
      "36224      0.000022  \n",
      "36225      0.000022  \n",
      "36226      0.000022  \n",
      "\n",
      "[36227 rows x 4 columns]\n"
     ]
    }
   ],
   "source": [
    "total_orders = 4544171\n",
    "\n",
    "popular_reordered_products['reorder_rate'] = popular_reordered_products['reorder_count'] / total_orders * 100\n",
    "\n",
    "print('Reorder rate of products in percentage')\n",
    "print()\n",
    "print(popular_reordered_products[['product_id', 'product_name', 'reorder_count', 'reorder_rate']])"
   ]
  },
  {
   "cell_type": "markdown",
   "id": "5677587f",
   "metadata": {},
   "source": [
    "I've found it a bit challenging to understand the nature of this particular question, but here's my second attempt, based on the reviewer's feedback:\n",
    "\n",
    "* First, we start by grouping by 'product_id' and calculate the sum of 'reordered' along with the total count of 'order_id'.\n",
    "* Next, we calculate the proportion of reorderings for each product."
   ]
  },
  {
   "cell_type": "code",
   "execution_count": 59,
   "id": "fc59ec2a",
   "metadata": {
    "scrolled": true
   },
   "outputs": [
    {
     "name": "stdout",
     "output_type": "stream",
     "text": [
      "       product_id  reordered  order_id  reorder_ratio\n",
      "0               1        158       280      56.428571\n",
      "1               2          0        11       0.000000\n",
      "2               3         31        42      73.809524\n",
      "3               4         25        49      51.020408\n",
      "4               7          1         2      50.000000\n",
      "...           ...        ...       ...            ...\n",
      "45567       49690          4         5      80.000000\n",
      "45568       49691         31        72      43.055556\n",
      "45569       49692          5        12      41.666667\n",
      "45570       49693         11        25      44.000000\n",
      "45571       49694          3         9      33.333333\n",
      "\n",
      "[45572 rows x 4 columns]\n"
     ]
    }
   ],
   "source": [
    "product_reordered_counts = order_products_df.groupby('product_id').agg({'reordered': 'sum', 'order_id': 'count'}).reset_index()\n",
    "product_reordered_counts['reorder_ratio'] = product_reordered_counts['reordered'] / product_reordered_counts['order_id']*100\n",
    "\n",
    "print(product_reordered_counts)"
   ]
  },
  {
   "cell_type": "markdown",
   "id": "732e0aaa",
   "metadata": {},
   "source": [
    "Okay, now we merge it with products_df to associate the product names with each ID."
   ]
  },
  {
   "cell_type": "code",
   "execution_count": 60,
   "id": "331880aa",
   "metadata": {},
   "outputs": [],
   "source": [
    "product_reordered_counts = pd.merge(product_reordered_counts, products_df[['product_id', 'product_name']], on='product_id')"
   ]
  },
  {
   "cell_type": "markdown",
   "id": "5ffcc71b",
   "metadata": {},
   "source": [
    "Finally, we work our magic and hope that this is the result we're being asked for! 🧙🏻‍♂️🪄✨✨✨✨"
   ]
  },
  {
   "cell_type": "code",
   "execution_count": 61,
   "id": "48b0f0e2",
   "metadata": {},
   "outputs": [
    {
     "name": "stdout",
     "output_type": "stream",
     "text": [
      "   product_id                                       product_name  \\\n",
      "0           1                         Chocolate Sandwich Cookies   \n",
      "1           2                                   All-Seasons Salt   \n",
      "2           3               Robust Golden Unsweetened Oolong Tea   \n",
      "3           4  Smart Ones Classic Favorites Mini Rigatoni Wit...   \n",
      "4           7                     Pure Coconut Water With Orange   \n",
      "\n",
      "   reorder_ratio  \n",
      "0      56.428571  \n",
      "1       0.000000  \n",
      "2      73.809524  \n",
      "3      51.020408  \n",
      "4      50.000000  \n"
     ]
    }
   ],
   "source": [
    "print(product_reordered_counts[['product_id', 'product_name', 'reorder_ratio']].head())"
   ]
  },
  {
   "cell_type": "markdown",
   "id": "67c467b4",
   "metadata": {},
   "source": [
    "The reorder rate shows how likely it is for a customer to reorder a specific product after purchasing it once.\n",
    "\n",
    "For example, the product with the highest reorder rate in this list is bananas, with approximately 1.23% of all total orders being reordered. This indicates that more than 1% of all orders include bananas being reordered.\n",
    "\n",
    "In summary, this new column provides valuable information about which products are popular among customers and how likely they are to be reordered. This is useful for understanding customer purchasing habits and optimizing product offerings on the Instacart platform."
   ]
  },
  {
   "cell_type": "markdown",
   "id": "subject-boxing",
   "metadata": {
    "id": "subject-boxing"
   },
   "source": [
    "### For each customer, what proportion of their products had already been ordered before?\n",
    "\n",
    "The request states: 'For each customer, what proportion of the products they ordered had they already ordered before? Calculate the reorder rate for each user instead of each product.'\n",
    "\n",
    "First, we obtain the total number of users:"
   ]
  },
  {
   "cell_type": "code",
   "execution_count": 62,
   "id": "67112bf1",
   "metadata": {},
   "outputs": [
    {
     "name": "stdout",
     "output_type": "stream",
     "text": [
      "Number of unique user_ids: 157437\n"
     ]
    }
   ],
   "source": [
    "unique_users = instacart_orders_df['user_id'].nunique()\n",
    "print(\"Number of unique user_ids:\", unique_users)"
   ]
  },
  {
   "cell_type": "markdown",
   "id": "7d7c7ae5",
   "metadata": {},
   "source": [
    "We're aiming to obtain the same table of the top 20 most reordered products, but this time, we want to know this by customer, correct?"
   ]
  },
  {
   "cell_type": "code",
   "execution_count": 63,
   "id": "8892e4b4",
   "metadata": {
    "id": "8892e4b4"
   },
   "outputs": [
    {
     "name": "stdout",
     "output_type": "stream",
     "text": [
      "Reorder rate per users in percentage\n",
      "\n",
      "       product_id                                product_name  \\\n",
      "0           24852                                      Banana   \n",
      "1           13176                      Bag of Organic Bananas   \n",
      "2           21137                        Organic Strawberries   \n",
      "3           21903                        Organic Baby Spinach   \n",
      "4           47209                        Organic Hass Avocado   \n",
      "...           ...                                         ...   \n",
      "36222       20864  Toilet Wand with Storage Caddy Starter Kit   \n",
      "36223       42353            Original Creamy Hot Wheat Cereal   \n",
      "36224       41991                  Chicken Parmesan and Penne   \n",
      "36225       27600                      Milk Chocolate Peanuts   \n",
      "36226       47673  Toast Chee Peanut Butter Sandwich Crackers   \n",
      "\n",
      "       tasa_repetición_usuarios  \n",
      "0                     35.417977  \n",
      "1                     28.232245  \n",
      "2                     18.189498  \n",
      "3                     16.661903  \n",
      "4                     15.007908  \n",
      "...                         ...  \n",
      "36222                  0.000635  \n",
      "36223                  0.000635  \n",
      "36224                  0.000635  \n",
      "36225                  0.000635  \n",
      "36226                  0.000635  \n",
      "\n",
      "[36227 rows x 3 columns]\n"
     ]
    }
   ],
   "source": [
    "popular_reordered_products['tasa_repetición_usuarios'] = popular_reordered_products['reorder_count'] / unique_users * 100\n",
    "\n",
    "print('Reorder rate per users in percentage')\n",
    "print()\n",
    "print(popular_reordered_products[['product_id', 'product_name', 'tasa_repetición_usuarios']])\n"
   ]
  },
  {
   "cell_type": "markdown",
   "id": "faacd33a",
   "metadata": {},
   "source": [
    "The high reorder rate for certain products, such as bananas and organic bananas, suggests strong customer loyalty to these specific items. For instance, 35% of customers who have purchased bananas tend to reorder them regularly, indicating a stable preference.\n",
    "\n",
    "This insight suggests marketing opportunities. Identifying products with the highest reorder rates can provide opportunities for targeted marketing strategies, such as special promotions or personalized recommendations, aimed at further encouraging repeat orders and increasing customer loyalty."
   ]
  },
  {
   "cell_type": "markdown",
   "id": "92d35137",
   "metadata": {
    "id": "92d35137"
   },
   "source": [
    "### Top 20 items that people put first in their carts"
   ]
  },
  {
   "cell_type": "markdown",
   "id": "145bb696",
   "metadata": {},
   "source": [
    "Okay, let's start over with the filtering. This time, we filter for products that were the first item added to the cart and apply the .value_counts method to count the frequencies of each product."
   ]
  },
  {
   "cell_type": "code",
   "execution_count": 64,
   "id": "0ae57274",
   "metadata": {
    "id": "0ae57274",
    "scrolled": true
   },
   "outputs": [],
   "source": [
    "first_in_cart = order_products_df[order_products_df['add_to_cart_order'] == 1]\n",
    "\n",
    "top_first_products = first_in_cart['product_id'].value_counts().reset_index()\n",
    "top_first_products.columns = ['product_id', 'add_to_cart_count']"
   ]
  },
  {
   "cell_type": "markdown",
   "id": "f5885449",
   "metadata": {},
   "source": [
    "We obtain the names of these first-preference products."
   ]
  },
  {
   "cell_type": "code",
   "execution_count": 65,
   "id": "forty-netherlands",
   "metadata": {
    "id": "forty-netherlands",
    "scrolled": true
   },
   "outputs": [],
   "source": [
    "top_first_products = pd.merge(top_first_products.head(20), products_df[['product_id', 'product_name']], on='product_id')"
   ]
  },
  {
   "cell_type": "markdown",
   "id": "fb3b85be",
   "metadata": {},
   "source": [
    "Let's work our magic 🧙🏻‍♂️🪄✨✨✨✨✨"
   ]
  },
  {
   "cell_type": "code",
   "execution_count": 66,
   "id": "08e41ec2",
   "metadata": {
    "id": "08e41ec2"
   },
   "outputs": [
    {
     "name": "stdout",
     "output_type": "stream",
     "text": [
      "    product_id                 product_name  add_to_cart_count\n",
      "0        24852                       Banana              15562\n",
      "1        13176       Bag of Organic Bananas              11026\n",
      "2        27845           Organic Whole Milk               4363\n",
      "3        21137         Organic Strawberries               3946\n",
      "4        47209         Organic Hass Avocado               3390\n",
      "5        21903         Organic Baby Spinach               3336\n",
      "6        47766              Organic Avocado               3044\n",
      "7        19660                 Spring Water               2336\n",
      "8        16797                 Strawberries               2308\n",
      "9        27966          Organic Raspberries               2024\n",
      "10       44632   Sparkling Water Grapefruit               1914\n",
      "11       49235          Organic Half & Half               1797\n",
      "12       47626                  Large Lemon               1737\n",
      "13         196                         Soda               1733\n",
      "14       38689     Organic Reduced Fat Milk               1397\n",
      "15       26209                        Limes               1370\n",
      "16       12341                Hass Avocados               1340\n",
      "17        5785  Organic Reduced Fat 2% Milk               1310\n",
      "18       27086                  Half & Half               1309\n",
      "19       43352                  Raspberries               1246\n"
     ]
    }
   ],
   "source": [
    "print(top_first_products[['product_id', 'product_name', 'add_to_cart_count']])"
   ]
  },
  {
   "cell_type": "markdown",
   "id": "45bf89a9",
   "metadata": {},
   "source": [
    "After reviewing the latest tables with the top 20 products according to various criteria we've been asked for, the reality is that these products don't change much; for example, Bananas and Bag of Organic Bananas continue to be two of the most popular products that people tend to add first to their carts, with a significantly higher quantity than other products. This suggests that customers consider these products essential or prioritized in their purchases.\n",
    "\n",
    "In summary, this list continues to reflect a combination of fresh produce, dairy, and some beverages that customers typically consider their first choices when starting their online shopping.\n",
    "\n",
    "Personally, I'm curious: Is this preference legitimate, or is it a bias due to the placement of products on the Instacart page? 🤔"
   ]
  }
 ],
 "metadata": {
  "ExecuteTimeLog": [
   {
    "duration": 4320,
    "start_time": "2024-06-24T19:23:00.221Z"
   },
   {
    "duration": 3980,
    "start_time": "2024-06-24T19:23:10.440Z"
   },
   {
    "duration": 18,
    "start_time": "2024-06-24T19:23:14.423Z"
   }
  ],
  "colab": {
   "provenance": []
  },
  "kernelspec": {
   "display_name": "Python 3 (ipykernel)",
   "language": "python",
   "name": "python3"
  },
  "language_info": {
   "codemirror_mode": {
    "name": "ipython",
    "version": 3
   },
   "file_extension": ".py",
   "mimetype": "text/x-python",
   "name": "python",
   "nbconvert_exporter": "python",
   "pygments_lexer": "ipython3",
   "version": "3.11.4"
  },
  "toc": {
   "base_numbering": 1,
   "nav_menu": {},
   "number_sections": true,
   "sideBar": true,
   "skip_h1_title": true,
   "title_cell": "Table of Contents",
   "title_sidebar": "Contents",
   "toc_cell": false,
   "toc_position": {},
   "toc_section_display": true,
   "toc_window_display": false
  },
  "vscode": {
   "interpreter": {
    "hash": "01a7be9ec63e704a62cefc5fe7a4756944464ee731be31632bdf42a4cb4688cf"
   }
  }
 },
 "nbformat": 4,
 "nbformat_minor": 5
}
