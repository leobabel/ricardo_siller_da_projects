{
 "cells": [
  {
   "cell_type": "markdown",
   "metadata": {
    "id": "E0vqbgi9ay0H"
   },
   "source": [
    "# Music Stream Project"
   ]
  },
  {
   "cell_type": "markdown",
   "metadata": {
    "id": "fhq_eyov_Zcs"
   },
   "source": [
    "## Contents <a id='back'></a>\n",
    "\n",
    "* [Introduction](#intro)\n",
    "* [Stage 1. Data Review](#data_review)\n",
    "    * [Conclusions](#data_review_conclusions)\n",
    "* [Stage 2. Data Preprocessing](#data_preprocessing)\n",
    "    * [2.1 Header Style](#header_style)\n",
    "    * [2.2 Missing Values](#missing_values)\n",
    "    * [2.3 Duplicates](#duplicates)\n",
    "    * [2.4 Data Preprocessing Conclusions](#data_preprocessing_conclusions)\n",
    "* [Stage 3. Hypothesis Test](#hypothesis)\n",
    "    * [3.1 Hypothesis 1: Comparing user behavior in the two cities](#activity)\n",
    "* [Conclusions](#end)"
   ]
  },
  {
   "cell_type": "markdown",
   "metadata": {
    "id": "VUC88oWjTJw2"
   },
   "source": [
    "## Introduction <a id='intro'></a>\n",
    "As a data analyst, my role involves analyzing data to uncover valuable insights and make informed decisions. This particular project includes stages like data exploration, preprocessing, and hypothesis testing.\n",
    "\n",
    "When conducting research, I formulate hypotheses that I can subsequently test. Depending on the results, I either accept or reject these hypotheses. It's crucial for making accurate decisions that my organization understands if our assumptions are correct.\n",
    "\n",
    "This project compares the music preferences between Springfield and Shelbyville. By examining real data from online music streaming services, I aim to test a specific hypothesis and investigate how users from these two cities behave differently in terms of music consumption. This research will provide valuable insights that can guide strategic decisions and potentially uncover trends or patterns in user behavior.\n",
    "\n",
    "### Goal:\n",
    "I will test the hypothesis that shows user activity varies based on the day of the week and differs depending on the city.\n",
    "\n",
    "For this study, I'll analyze data to see if there are noticeable differences in how users from Springfield and Shelbyville engage with online music streaming services throughout the week. This will involve examining patterns and behaviors specific to each city and correlating them with daily trends. The goal is to determine if there are significant variations in user activity based on both the day of the week and the city they reside in.\n",
    "\n",
    "### Stages:\n",
    "\n",
    "- 1.- Data Description:\n",
    "In this stage, I will analyze the data structure, review available columns, identify potential issues such as missing or inconsistent data, and calculate key descriptive statistics to better understand the nature of the data.\n",
    "\n",
    "- 2.- Data Preprocessing:\n",
    "I will address the issues identified in the data description phase. This may include handling missing data through imputation or deletion, correcting format errors, standardizing data if necessary, and any other transformations needed to prepare the data for further analysis. The goal is to ensure the data is clean, consistent, and ready for hypothesis testing.\n",
    "\n",
    "- 3.- Hypothesis Testing:\n",
    "Once the data is prepared, I will proceed with testing the hypothesis that user activity varies by day of the week and differs between the cities of Springfield and Shelbyville. I will use appropriate statistical methods to compare user behaviors in both cities across different days of the week. The results of this test will provide insights into whether there are significant differences in user behavior based on both the day of the week and geographical location.\n",
    "\n",
    "Each stage is crucial to ensuring the validity and proper interpretation of the results obtained in this data analysis project."
   ]
  },
  {
   "cell_type": "markdown",
   "metadata": {
    "id": "hDt6pg-Rw-1U"
   },
   "source": [
    "[Back to Contents](#back)"
   ]
  },
  {
   "cell_type": "markdown",
   "metadata": {
    "id": "Ml1hmfXC_Zcs"
   },
   "source": [
    "## Stage 1. Data Review <a id='data_review'></a>"
   ]
  },
  {
   "cell_type": "code",
   "execution_count": 1,
   "metadata": {
    "id": "AXN7PHPN_Zcs"
   },
   "outputs": [],
   "source": [
    "import pandas as pd\n",
    "df = pd.read_csv('https://raw.githubusercontent.com/ricardosillercardenas/da_projects_dataframes/main/music_project_en.csv')"
   ]
  },
  {
   "cell_type": "markdown",
   "metadata": {
    "id": "rDoOMd3uTqnZ"
   },
   "source": [
    "Let´s see the first 10 rows and info:"
   ]
  },
  {
   "cell_type": "code",
   "execution_count": 2,
   "metadata": {
    "id": "oWTVX3gW_Zct"
   },
   "outputs": [
    {
     "name": "stdout",
     "output_type": "stream",
     "text": [
      "     userID                        Track            artist   genre  \\\n",
      "0  FFB692EC            Kamigata To Boots  The Mass Missile    rock   \n",
      "1  55204538  Delayed Because of Accident  Andreas Rönnberg    rock   \n",
      "2    20EC38            Funiculì funiculà       Mario Lanza     pop   \n",
      "3  A3DD03C9        Dragons in the Sunset        Fire + Ice    folk   \n",
      "4  E2DC1FAE                  Soul People        Space Echo   dance   \n",
      "5  842029A1                       Chains          Obladaet  rusrap   \n",
      "6  4CB90AA5                         True      Roman Messer   dance   \n",
      "7  F03E1C1F             Feeling This Way   Polina Griffith   dance   \n",
      "8  8FA1D3BE                     L’estate       Julia Dalia  ruspop   \n",
      "9  E772D5C0                    Pessimist               NaN   dance   \n",
      "\n",
      "        City        time        Day  \n",
      "0  Shelbyville  20:28:33  Wednesday  \n",
      "1  Springfield  14:07:09     Friday  \n",
      "2  Shelbyville  20:58:07  Wednesday  \n",
      "3  Shelbyville  08:37:09     Monday  \n",
      "4  Springfield  08:34:34     Monday  \n",
      "5  Shelbyville  13:09:41     Friday  \n",
      "6  Springfield  13:00:07  Wednesday  \n",
      "7  Springfield  20:47:49  Wednesday  \n",
      "8  Springfield  09:17:40     Friday  \n",
      "9  Shelbyville  21:20:49  Wednesday  \n",
      "___________________________________________________________________________\n",
      "<class 'pandas.core.frame.DataFrame'>\n",
      "RangeIndex: 65079 entries, 0 to 65078\n",
      "Data columns (total 7 columns):\n",
      " #   Column    Non-Null Count  Dtype \n",
      "---  ------    --------------  ----- \n",
      " 0     userID  65079 non-null  object\n",
      " 1   Track     63736 non-null  object\n",
      " 2   artist    57512 non-null  object\n",
      " 3   genre     63881 non-null  object\n",
      " 4     City    65079 non-null  object\n",
      " 5   time      65079 non-null  object\n",
      " 6   Day       65079 non-null  object\n",
      "dtypes: object(7)\n",
      "memory usage: 3.5+ MB\n",
      "None\n"
     ]
    }
   ],
   "source": [
    "print(df.head(10))\n",
    "print('_'*75)\n",
    "print(df.info())"
   ]
  },
  {
   "cell_type": "markdown",
   "metadata": {},
   "source": [
    "Let's check missing values"
   ]
  },
  {
   "cell_type": "code",
   "execution_count": 3,
   "metadata": {},
   "outputs": [
    {
     "name": "stdout",
     "output_type": "stream",
     "text": [
      "  userID       0\n",
      "Track       1343\n",
      "artist      7567\n",
      "genre       1198\n",
      "  City         0\n",
      "time           0\n",
      "Day            0\n",
      "dtype: int64\n",
      "\n",
      "3826\n"
     ]
    }
   ],
   "source": [
    "print(df.isna().sum())\n",
    "print()\n",
    "print(df.duplicated().sum())"
   ]
  },
  {
   "cell_type": "markdown",
   "metadata": {},
   "source": [
    "The result of applying the isna() method shows that there are missing values in the columns 'track', 'artis', and 'genre'.\n",
    "\n",
    "Specifically, we found that there are 1343 missing values in the 'track' column, 7567 missing values in the 'artis' column, and 1198 missing values in the 'genre' column.\n",
    "\n",
    "These missing values may indicate incomplete data in the original dataset. It is important to address these missing values properly before conducting further analysis, as they can affect the accuracy and validity of our results.\n",
    "\n",
    "When applying the method df.duplicated().sum(), we found that there are 3826 explicitly duplicated values in the DataFrame. It is crucial to investigate and resolve these duplicates to ensure the integrity and reliability of our analyses and results.\n",
    "\n",
    "Additionally, I noticed that when running the dtypes method on the dataframe, I observed that all columns are identified as type 'object'. However, this classification does not provide detailed information about the actual data types contained in each column, such as integer, string, boolean, float, among others."
   ]
  },
  {
   "cell_type": "code",
   "execution_count": 4,
   "metadata": {
    "scrolled": true
   },
   "outputs": [
    {
     "name": "stdout",
     "output_type": "stream",
     "text": [
      "dtype by column:\n",
      "  userID    object\n",
      "Track       object\n",
      "artist      object\n",
      "genre       object\n",
      "  City      object\n",
      "time        object\n",
      "Day         object\n",
      "dtype: object\n"
     ]
    }
   ],
   "source": [
    "print(\"dtype by column:\")\n",
    "print(df.dtypes)"
   ]
  },
  {
   "cell_type": "markdown",
   "metadata": {},
   "source": [
    "### Conclusions <a id='data_review_conclusions'></a>\n",
    "\n",
    "I expected the dtypes method to provide more specific information for each column, which would allow me to better understand the nature of the data we are handling. It's important to note this discrepancy and, if necessary, explore more thoroughly the actual data types in each column to conduct a more precise and effective analysis. This will ensure that we accurately interpret and utilize the data in our further analyses and modeling processes."
   ]
  },
  {
   "cell_type": "markdown",
   "metadata": {
    "id": "3eL__vcwViOi"
   },
   "source": [
    "[Back to Contents](#back)"
   ]
  },
  {
   "cell_type": "markdown",
   "metadata": {
    "id": "SjYF6Ub9_Zct"
   },
   "source": [
    "## Stage 2. Data Preprocessing <a id='data_preprocessing'></a>\n",
    "\n",
    "The goal here is to prepare the data for analysis. The first step is to address any issues with the headers. Then, I can move on to missing values and duplicates. Let's begin.\n"
   ]
  },
  {
   "cell_type": "markdown",
   "metadata": {
    "id": "dIaKXr29_Zct"
   },
   "source": [
    "### Header Style <a id='header_style'></a>\n"
   ]
  },
  {
   "cell_type": "code",
   "execution_count": 5,
   "metadata": {
    "id": "oKOTdF_Q_Zct"
   },
   "outputs": [
    {
     "name": "stdout",
     "output_type": "stream",
     "text": [
      "Index(['  userID', 'Track', 'artist', 'genre', '  City  ', 'time', 'Day'], dtype='object')\n"
     ]
    }
   ],
   "source": [
    "print(df.columns)"
   ]
  },
  {
   "cell_type": "code",
   "execution_count": 6,
   "metadata": {
    "id": "6I_RwwMhzM4e"
   },
   "outputs": [],
   "source": [
    "new_headers = {}\n",
    "\n",
    "for column in df.columns:\n",
    "    lowered_headers = column.lower()\n",
    "    new_headers[column] = lowered_headers\n",
    "\n",
    "# Let's rename columns\n",
    "df = df.rename(columns=new_headers)"
   ]
  },
  {
   "cell_type": "markdown",
   "metadata": {
    "id": "pweIRxjSzPYW"
   },
   "source": [
    "Now, using the same method, I will remove any leading or trailing spaces from the column names and print the column names again:"
   ]
  },
  {
   "cell_type": "code",
   "execution_count": 7,
   "metadata": {
    "id": "vVQXbFyJzSYl"
   },
   "outputs": [],
   "source": [
    "new_headers = {}\n",
    "\n",
    "for column in df.columns:\n",
    "    stripped_spaces_headers = column.strip()\n",
    "    new_headers[column] = stripped_spaces_headers\n",
    "\n",
    "df = df.rename(columns=new_headers)"
   ]
  },
  {
   "cell_type": "markdown",
   "metadata": {
    "id": "yCb8MW1JzURd"
   },
   "source": [
    "I need to apply the snake_case rule to the column userid. It should be user_id. I'll change the name of this column and show all column names when I'm done."
   ]
  },
  {
   "cell_type": "code",
   "execution_count": 8,
   "metadata": {
    "id": "ISlFqs5y_Zct"
   },
   "outputs": [],
   "source": [
    "df = df.rename(columns={'userid': 'user_id'})"
   ]
  },
  {
   "cell_type": "markdown",
   "metadata": {
    "id": "xYJk6ksJVpOl"
   },
   "source": [
    "[Back to Contents](#back)"
   ]
  },
  {
   "cell_type": "markdown",
   "metadata": {
    "id": "5ISfbcfY_Zct"
   },
   "source": [
    "### Missing Values <a id='missing_values'></a>\n",
    "First, find the number of missing values in the table. You should use two methods in sequence to obtain the number of missing values."
   ]
  },
  {
   "cell_type": "code",
   "execution_count": 9,
   "metadata": {
    "id": "RskX29qr_Zct"
   },
   "outputs": [
    {
     "name": "stdout",
     "output_type": "stream",
     "text": [
      "user_id       0\n",
      "track      1343\n",
      "artist     7567\n",
      "genre      1198\n",
      "city          0\n",
      "time          0\n",
      "day           0\n",
      "dtype: int64\n",
      "\n",
      "Total number of missing values: 10108\n"
     ]
    }
   ],
   "source": [
    "print(df.isna().sum())\n",
    "print()\n",
    "print(\"Total number of missing values:\", df.isna().sum().sum())"
   ]
  },
  {
   "cell_type": "markdown",
   "metadata": {
    "id": "qubhgnlO_Zct"
   },
   "source": [
    "Not all missing values impact the research. For example, missing values in track and artist are not crucial and can simply be replaced with a default value like 'unknown'.\n",
    "\n",
    "However, missing values in 'genre' could affect the comparison between the music preferences of Springfield and Shelbyville. In real-life scenarios, understanding the reasons behind missing data and attempting to recover them would be useful. However, we do not have that opportunity in this project. Therefore, you will need to:\n",
    "\n",
    "Fill these missing values with a default value.\n",
    "Assess how much these missing values could impact your computations.\n",
    "Replace the missing values in the columns 'track', 'artist', and 'genre' with the string 'unknown'. As we have seen in previous lessons, the best way to do this is to create a list storing the names of the columns where replacement is needed. Then, iterate through these columns using the list to perform the replacement."
   ]
  },
  {
   "cell_type": "code",
   "execution_count": 10,
   "metadata": {
    "id": "KplB5qWs_Zct"
   },
   "outputs": [],
   "source": [
    "columns_replace = ['track', 'artist', 'genre']\n",
    "\n",
    "for column in columns_replace:\n",
    "    df[column].fillna('unknown', inplace=True)"
   ]
  },
  {
   "cell_type": "markdown",
   "metadata": {
    "id": "Ilsm-MZo_Zct"
   },
   "source": [
    "Now, I'll check the result to make sure that after the replacement, there are no missing values left in the dataset. I'll count the missing values again to verify this."
   ]
  },
  {
   "cell_type": "code",
   "execution_count": 11,
   "metadata": {
    "id": "Tq4nYRX4_Zct"
   },
   "outputs": [
    {
     "name": "stdout",
     "output_type": "stream",
     "text": [
      "user_id    0\n",
      "track      0\n",
      "artist     0\n",
      "genre      0\n",
      "city       0\n",
      "time       0\n",
      "day        0\n",
      "dtype: int64\n",
      "\n",
      "Total number of missing values: 0\n"
     ]
    }
   ],
   "source": [
    "# Count absent values\n",
    "\n",
    "print(df.isna().sum())\n",
    "print()\n",
    "print(\"Total number of missing values:\", df.isna().sum().sum())\n"
   ]
  },
  {
   "cell_type": "markdown",
   "metadata": {
    "id": "74ZIBmq9VrsK"
   },
   "source": [
    "[Back to Contents](#back)"
   ]
  },
  {
   "cell_type": "markdown",
   "metadata": {
    "id": "BWKRtBJ3_Zct"
   },
   "source": [
    "### Duplicates <a id='duplicates'></a>\n",
    "To find the number of explicit duplicates in the table, once again, I will apply two methods in sequence to obtain the count of explicit duplicates."
   ]
  },
  {
   "cell_type": "code",
   "execution_count": 12,
   "metadata": {
    "id": "36eES_S0_Zct"
   },
   "outputs": [
    {
     "name": "stdout",
     "output_type": "stream",
     "text": [
      "Total number of duplicated values: 3826\n"
     ]
    }
   ],
   "source": [
    "# Let's count explicit duplicates\n",
    "\n",
    "print(\"Total number of duplicated values:\", df.duplicated().sum())"
   ]
  },
  {
   "cell_type": "markdown",
   "metadata": {
    "id": "Ot25h6XR_Zct"
   },
   "source": [
    "Now, I will remove all duplicates. To do this, I'll call the method that accomplishes this task directly."
   ]
  },
  {
   "cell_type": "code",
   "execution_count": 13,
   "metadata": {
    "id": "exFHq6tt_Zct"
   },
   "outputs": [
    {
     "name": "stdout",
     "output_type": "stream",
     "text": [
      "Total number of duplicated values: 0\n"
     ]
    }
   ],
   "source": [
    "df = df.drop_duplicates()\n",
    "print(\"Total number of duplicated values:\", df.duplicated().sum())"
   ]
  },
  {
   "cell_type": "markdown",
   "metadata": {
    "id": "QlFBsxAr_Zct"
   },
   "source": [
    "Now we want to get rid of implicit duplicates in the genre column. For example, genre names might be written in various forms, which could affect the results.\n",
    "\n",
    "To do this, first let's display a list of unique genre names, sorted alphabetically. Here's how:"
   ]
  },
  {
   "cell_type": "code",
   "execution_count": 14,
   "metadata": {
    "id": "JIUcqzZN_Zct"
   },
   "outputs": [
    {
     "name": "stdout",
     "output_type": "stream",
     "text": [
      "Number of unique genres: 269\n",
      "\n",
      "Unique genres list:\n",
      "acid\n",
      "acoustic\n",
      "action\n",
      "adult\n",
      "africa\n",
      "afrikaans\n",
      "alternative\n",
      "ambient\n",
      "americana\n",
      "animated\n",
      "anime\n",
      "arabesk\n",
      "arabic\n",
      "arena\n",
      "argentinetango\n",
      "art\n",
      "audiobook\n",
      "avantgarde\n",
      "axé\n",
      "baile\n",
      "balkan\n",
      "beats\n",
      "bigroom\n",
      "black\n",
      "bluegrass\n",
      "blues\n",
      "bollywood\n",
      "bossa\n",
      "brazilian\n",
      "breakbeat\n",
      "breaks\n",
      "broadway\n",
      "cantautori\n",
      "cantopop\n",
      "canzone\n",
      "caribbean\n",
      "caucasian\n",
      "celtic\n",
      "chamber\n",
      "children\n",
      "chill\n",
      "chinese\n",
      "choral\n",
      "christian\n",
      "christmas\n",
      "classical\n",
      "classicmetal\n",
      "club\n",
      "colombian\n",
      "comedy\n",
      "conjazz\n",
      "contemporary\n",
      "country\n",
      "cuban\n",
      "dance\n",
      "dancehall\n",
      "dancepop\n",
      "dark\n",
      "death\n",
      "deep\n",
      "deutschrock\n",
      "deutschspr\n",
      "dirty\n",
      "disco\n",
      "dnb\n",
      "documentary\n",
      "downbeat\n",
      "downtempo\n",
      "drum\n",
      "dub\n",
      "dubstep\n",
      "eastern\n",
      "easy\n",
      "electronic\n",
      "electropop\n",
      "emo\n",
      "entehno\n",
      "epicmetal\n",
      "estrada\n",
      "ethnic\n",
      "eurofolk\n",
      "european\n",
      "experimental\n",
      "extrememetal\n",
      "fado\n",
      "film\n",
      "fitness\n",
      "flamenco\n",
      "folk\n",
      "folklore\n",
      "folkmetal\n",
      "folkrock\n",
      "folktronica\n",
      "forró\n",
      "frankreich\n",
      "französisch\n",
      "french\n",
      "funk\n",
      "future\n",
      "gangsta\n",
      "garage\n",
      "german\n",
      "ghazal\n",
      "gitarre\n",
      "glitch\n",
      "gospel\n",
      "gothic\n",
      "grime\n",
      "grunge\n",
      "gypsy\n",
      "handsup\n",
      "hard'n'heavy\n",
      "hardcore\n",
      "hardstyle\n",
      "hardtechno\n",
      "hip\n",
      "hip-hop\n",
      "hiphop\n",
      "historisch\n",
      "holiday\n",
      "hop\n",
      "horror\n",
      "house\n",
      "idm\n",
      "independent\n",
      "indian\n",
      "indie\n",
      "indipop\n",
      "industrial\n",
      "inspirational\n",
      "instrumental\n",
      "international\n",
      "irish\n",
      "jam\n",
      "japanese\n",
      "jazz\n",
      "jewish\n",
      "jpop\n",
      "jungle\n",
      "k-pop\n",
      "karadeniz\n",
      "karaoke\n",
      "kayokyoku\n",
      "korean\n",
      "laiko\n",
      "latin\n",
      "latino\n",
      "leftfield\n",
      "local\n",
      "lounge\n",
      "loungeelectronic\n",
      "lovers\n",
      "malaysian\n",
      "mandopop\n",
      "marschmusik\n",
      "meditative\n",
      "mediterranean\n",
      "melodic\n",
      "metal\n",
      "metalcore\n",
      "mexican\n",
      "middle\n",
      "minimal\n",
      "miscellaneous\n",
      "modern\n",
      "mood\n",
      "mpb\n",
      "muslim\n",
      "native\n",
      "neoklassik\n",
      "neue\n",
      "new\n",
      "newage\n",
      "newwave\n",
      "nu\n",
      "nujazz\n",
      "numetal\n",
      "oceania\n",
      "old\n",
      "opera\n",
      "orchestral\n",
      "other\n",
      "piano\n",
      "pop\n",
      "popelectronic\n",
      "popeurodance\n",
      "post\n",
      "posthardcore\n",
      "postrock\n",
      "power\n",
      "progmetal\n",
      "progressive\n",
      "psychedelic\n",
      "punjabi\n",
      "punk\n",
      "quebecois\n",
      "ragga\n",
      "ram\n",
      "rancheras\n",
      "rap\n",
      "rave\n",
      "reggae\n",
      "reggaeton\n",
      "regional\n",
      "relax\n",
      "religious\n",
      "retro\n",
      "rhythm\n",
      "rnb\n",
      "rnr\n",
      "rock\n",
      "rockabilly\n",
      "romance\n",
      "roots\n",
      "ruspop\n",
      "rusrap\n",
      "rusrock\n",
      "salsa\n",
      "samba\n",
      "schlager\n",
      "self\n",
      "sertanejo\n",
      "shoegazing\n",
      "showtunes\n",
      "singer\n",
      "ska\n",
      "slow\n",
      "smooth\n",
      "soul\n",
      "soulful\n",
      "sound\n",
      "soundtrack\n",
      "southern\n",
      "specialty\n",
      "speech\n",
      "spiritual\n",
      "sport\n",
      "stonerrock\n",
      "surf\n",
      "swing\n",
      "synthpop\n",
      "sängerportrait\n",
      "tango\n",
      "tanzorchester\n",
      "taraftar\n",
      "tech\n",
      "techno\n",
      "thrash\n",
      "top\n",
      "traditional\n",
      "tradjazz\n",
      "trance\n",
      "tribal\n",
      "trip\n",
      "triphop\n",
      "tropical\n",
      "türk\n",
      "türkçe\n",
      "unknown\n",
      "urban\n",
      "uzbek\n",
      "variété\n",
      "vi\n",
      "videogame\n",
      "vocal\n",
      "western\n",
      "world\n",
      "worldbeat\n",
      "ïîï\n"
     ]
    }
   ],
   "source": [
    "unique_genres = df['genre']\n",
    "unique_genres = unique_genres.unique()\n",
    "unique_genres.sort()\n",
    "\n",
    "print(\"Number of unique genres:\", len(unique_genres))\n",
    "print()\n",
    "print(\"Unique genres list:\")\n",
    "for genero in unique_genres:\n",
    "    print(genero)"
   ]
  },
  {
   "cell_type": "markdown",
   "metadata": {
    "id": "qej-Qmuo_Zct"
   },
   "source": [
    "Let's look through the list to find implicit duplicates of the genre hiphop. These could be incorrectly written names or alternative names for the same genre.\n",
    "\n",
    "You will find the following implicit duplicates:\n",
    "* hip\n",
    "* hop\n",
    "* hip-hop\n",
    "\n",
    "To get rid of them, I will create a function called replace_wrong_genres() with two parameters:\n",
    "\n",
    "* wrong_genres: This will be a list containing all the values that need to be replaced.\n",
    "* correct_genre: This parameter will be the string used for replacement.\n",
    "\n",
    "As a result, the function should correct the names in the 'genre' column of the DataFrame df, meaning it will replace each value from the wrong_genres list with the correct_genre value.\n",
    "\n",
    "Inside the function, I'll use a for loop to iterate over the list of incorrect genres, extract the 'genre' column, and apply the replace method to make the corrections."
   ]
  },
  {
   "cell_type": "code",
   "execution_count": 15,
   "metadata": {
    "id": "ErNDkmns_Zct"
   },
   "outputs": [],
   "source": [
    "def replace_wrong_genres(wrong_genres, correct_genre):\n",
    "    for genre in wrong_genres:\n",
    "        df['genre'] = df['genre'].replace(genre, correct_genre)\n",
    "\n",
    "wrong_genres = ['hip', 'hop', 'hip-hop']\n",
    "correct_genre = 'hiphop'"
   ]
  },
  {
   "cell_type": "markdown",
   "metadata": {
    "id": "aDoBJxbA_Zct"
   },
   "source": [
    "Now, I will call replace_wrong_genres() and pass these arguments to remove the implicit duplicates (hip, hop, and hip-hop) and replace them with hiphop:"
   ]
  },
  {
   "cell_type": "code",
   "execution_count": 16,
   "metadata": {
    "id": "YN5i2hpmSo09"
   },
   "outputs": [],
   "source": [
    "replace_wrong_genres(wrong_genres, correct_genre)"
   ]
  },
  {
   "cell_type": "code",
   "execution_count": 17,
   "metadata": {
    "id": "wvixALnFG15m"
   },
   "outputs": [
    {
     "name": "stdout",
     "output_type": "stream",
     "text": [
      "        user_id                                track  \\\n",
      "20     201CF2A8                     Ya'll In Trouble   \n",
      "46     825997A5                     Glorious Feeling   \n",
      "79     1DA07AA4                              Cardi B   \n",
      "81     CCD46819                               Narcos   \n",
      "82       80396F                           Ay Caramba   \n",
      "...         ...                                  ...   \n",
      "65034  C1C4C94D                              Payback   \n",
      "65041  78713DBB          Feels Like Saving The World   \n",
      "65043  CDCAFD62                               Payday   \n",
      "65052  72CB2D36  Yeezy Taught Her (feat. King Louie)   \n",
      "65075  D08D4A55    Maybe One Day (feat. Black Spade)   \n",
      "\n",
      "                                                  artist   genre         city  \\\n",
      "20     Lil Tee Chill Tank Young Buck Brother Mohammed...  hiphop  Springfield   \n",
      "46                                            Joelistics  hiphop  Springfield   \n",
      "79                                             Money Man  hiphop  Shelbyville   \n",
      "81                                              FOrΣvΣrT  hiphop  Shelbyville   \n",
      "82                                   Stay Flee Get Lizzy  hiphop  Springfield   \n",
      "...                                                  ...     ...          ...   \n",
      "65034                                                 Vo  hiphop  Springfield   \n",
      "65041                                         Outlandish  hiphop  Springfield   \n",
      "65043                                           King Hot  hiphop  Shelbyville   \n",
      "65052                                             Josh.k  hiphop  Springfield   \n",
      "65075                                        Blu & Exile  hiphop  Shelbyville   \n",
      "\n",
      "           time        day  \n",
      "20     08:46:03     Monday  \n",
      "46     21:46:34     Friday  \n",
      "79     14:02:14     Monday  \n",
      "81     09:20:38  Wednesday  \n",
      "82     13:15:38     Monday  \n",
      "...         ...        ...  \n",
      "65034  20:07:31     Friday  \n",
      "65041  14:27:55     Friday  \n",
      "65043  14:31:37     Friday  \n",
      "65052  20:34:11     Friday  \n",
      "65075  10:00:00     Monday  \n",
      "\n",
      "[3056 rows x 7 columns]\n"
     ]
    }
   ],
   "source": [
    "# Let's check\n",
    "print(df[df['genre'] == 'hiphop'])"
   ]
  },
  {
   "cell_type": "markdown",
   "metadata": {},
   "source": [
    "Finally, I'll show the list of unique values in the 'genre' column again:"
   ]
  },
  {
   "cell_type": "code",
   "execution_count": 18,
   "metadata": {},
   "outputs": [
    {
     "name": "stdout",
     "output_type": "stream",
     "text": [
      "Number of unique genres: 266\n",
      "\n",
      "List of unique genres:\n",
      "acid\n",
      "acoustic\n",
      "action\n",
      "adult\n",
      "africa\n",
      "afrikaans\n",
      "alternative\n",
      "ambient\n",
      "americana\n",
      "animated\n",
      "anime\n",
      "arabesk\n",
      "arabic\n",
      "arena\n",
      "argentinetango\n",
      "art\n",
      "audiobook\n",
      "avantgarde\n",
      "axé\n",
      "baile\n",
      "balkan\n",
      "beats\n",
      "bigroom\n",
      "black\n",
      "bluegrass\n",
      "blues\n",
      "bollywood\n",
      "bossa\n",
      "brazilian\n",
      "breakbeat\n",
      "breaks\n",
      "broadway\n",
      "cantautori\n",
      "cantopop\n",
      "canzone\n",
      "caribbean\n",
      "caucasian\n",
      "celtic\n",
      "chamber\n",
      "children\n",
      "chill\n",
      "chinese\n",
      "choral\n",
      "christian\n",
      "christmas\n",
      "classical\n",
      "classicmetal\n",
      "club\n",
      "colombian\n",
      "comedy\n",
      "conjazz\n",
      "contemporary\n",
      "country\n",
      "cuban\n",
      "dance\n",
      "dancehall\n",
      "dancepop\n",
      "dark\n",
      "death\n",
      "deep\n",
      "deutschrock\n",
      "deutschspr\n",
      "dirty\n",
      "disco\n",
      "dnb\n",
      "documentary\n",
      "downbeat\n",
      "downtempo\n",
      "drum\n",
      "dub\n",
      "dubstep\n",
      "eastern\n",
      "easy\n",
      "electronic\n",
      "electropop\n",
      "emo\n",
      "entehno\n",
      "epicmetal\n",
      "estrada\n",
      "ethnic\n",
      "eurofolk\n",
      "european\n",
      "experimental\n",
      "extrememetal\n",
      "fado\n",
      "film\n",
      "fitness\n",
      "flamenco\n",
      "folk\n",
      "folklore\n",
      "folkmetal\n",
      "folkrock\n",
      "folktronica\n",
      "forró\n",
      "frankreich\n",
      "französisch\n",
      "french\n",
      "funk\n",
      "future\n",
      "gangsta\n",
      "garage\n",
      "german\n",
      "ghazal\n",
      "gitarre\n",
      "glitch\n",
      "gospel\n",
      "gothic\n",
      "grime\n",
      "grunge\n",
      "gypsy\n",
      "handsup\n",
      "hard'n'heavy\n",
      "hardcore\n",
      "hardstyle\n",
      "hardtechno\n",
      "hiphop\n",
      "historisch\n",
      "holiday\n",
      "horror\n",
      "house\n",
      "idm\n",
      "independent\n",
      "indian\n",
      "indie\n",
      "indipop\n",
      "industrial\n",
      "inspirational\n",
      "instrumental\n",
      "international\n",
      "irish\n",
      "jam\n",
      "japanese\n",
      "jazz\n",
      "jewish\n",
      "jpop\n",
      "jungle\n",
      "k-pop\n",
      "karadeniz\n",
      "karaoke\n",
      "kayokyoku\n",
      "korean\n",
      "laiko\n",
      "latin\n",
      "latino\n",
      "leftfield\n",
      "local\n",
      "lounge\n",
      "loungeelectronic\n",
      "lovers\n",
      "malaysian\n",
      "mandopop\n",
      "marschmusik\n",
      "meditative\n",
      "mediterranean\n",
      "melodic\n",
      "metal\n",
      "metalcore\n",
      "mexican\n",
      "middle\n",
      "minimal\n",
      "miscellaneous\n",
      "modern\n",
      "mood\n",
      "mpb\n",
      "muslim\n",
      "native\n",
      "neoklassik\n",
      "neue\n",
      "new\n",
      "newage\n",
      "newwave\n",
      "nu\n",
      "nujazz\n",
      "numetal\n",
      "oceania\n",
      "old\n",
      "opera\n",
      "orchestral\n",
      "other\n",
      "piano\n",
      "pop\n",
      "popelectronic\n",
      "popeurodance\n",
      "post\n",
      "posthardcore\n",
      "postrock\n",
      "power\n",
      "progmetal\n",
      "progressive\n",
      "psychedelic\n",
      "punjabi\n",
      "punk\n",
      "quebecois\n",
      "ragga\n",
      "ram\n",
      "rancheras\n",
      "rap\n",
      "rave\n",
      "reggae\n",
      "reggaeton\n",
      "regional\n",
      "relax\n",
      "religious\n",
      "retro\n",
      "rhythm\n",
      "rnb\n",
      "rnr\n",
      "rock\n",
      "rockabilly\n",
      "romance\n",
      "roots\n",
      "ruspop\n",
      "rusrap\n",
      "rusrock\n",
      "salsa\n",
      "samba\n",
      "schlager\n",
      "self\n",
      "sertanejo\n",
      "shoegazing\n",
      "showtunes\n",
      "singer\n",
      "ska\n",
      "slow\n",
      "smooth\n",
      "soul\n",
      "soulful\n",
      "sound\n",
      "soundtrack\n",
      "southern\n",
      "specialty\n",
      "speech\n",
      "spiritual\n",
      "sport\n",
      "stonerrock\n",
      "surf\n",
      "swing\n",
      "synthpop\n",
      "sängerportrait\n",
      "tango\n",
      "tanzorchester\n",
      "taraftar\n",
      "tech\n",
      "techno\n",
      "thrash\n",
      "top\n",
      "traditional\n",
      "tradjazz\n",
      "trance\n",
      "tribal\n",
      "trip\n",
      "triphop\n",
      "tropical\n",
      "türk\n",
      "türkçe\n",
      "unknown\n",
      "urban\n",
      "uzbek\n",
      "variété\n",
      "vi\n",
      "videogame\n",
      "vocal\n",
      "western\n",
      "world\n",
      "worldbeat\n",
      "ïîï\n"
     ]
    }
   ],
   "source": [
    "unique_genres = df['genre']\n",
    "\n",
    "\n",
    "unique_genres = unique_genres.unique()\n",
    "\n",
    "\n",
    "unique_genres.sort()\n",
    "\n",
    "print(\"Number of unique genres:\", len(unique_genres))\n",
    "print()\n",
    "print(\"List of unique genres:\")\n",
    "for genero in unique_genres:\n",
    "    print(genero)"
   ]
  },
  {
   "cell_type": "markdown",
   "metadata": {
    "id": "ALgNbvF3VtPA"
   },
   "source": [
    "[Back to Contents](#back)"
   ]
  },
  {
   "cell_type": "markdown",
   "metadata": {
    "id": "jz6a9-7HQUDd"
   },
   "source": [
    "### Data Preprocessing Conclusions <a id='data_preprocessing_conclusions'></a>\n",
    "\n",
    "Upon analyzing the duplicates in the 'genre' column, I noticed there were implicit duplicates due to different ways of writing the same genre, specifically 'hip', 'hop', and 'hip-hop', which actually referred to the genre 'hiphop'.\n",
    "\n",
    "The result of the replace_wrong_genres() function was successful in cleaning up the implicit duplicates in the 'genre' column, ensuring all records refer to the same genre 'hiphop'.\n",
    "\n",
    "Initially, we observed 269 unique genres in the 'genre' column. After applying the requested function, we reduced this number to 266. In other words, we removed the three incorrect genre names for hiphop."
   ]
  },
  {
   "cell_type": "markdown",
   "metadata": {
    "id": "eK1es74rVujj"
   },
   "source": [
    "[Back to Contents](#back)"
   ]
  },
  {
   "cell_type": "markdown",
   "metadata": {
    "id": "WttZHXH0SqKk"
   },
   "source": [
    "## Stage 3. Hypothesis Test <a id='hypothesis'></a>"
   ]
  },
  {
   "cell_type": "markdown",
   "metadata": {
    "id": "Im936VVi_Zcu"
   },
   "source": [
    "### Hypothesis: Comparing user behavior in the two cities.<a id='activity'></a>"
   ]
  },
  {
   "cell_type": "markdown",
   "metadata": {
    "id": "nwt_MuaL_Zcu"
   },
   "source": [
    "The hypothesis states that there are differences in how users in Springfield and Shelbyville consume music. To test this, I'll use data from three days of the week: Monday, Wednesday, and Friday.\n",
    "\n",
    "I'll group users by city.\n",
    "I'll compare the number of songs each group played on Monday, Wednesday, and Friday.\n",
    "I'll perform each calculation separately.\n",
    "\n",
    "The first step is to evaluate user activity in each city. Remember the split-apply-combine stages we discussed earlier in the lesson. My goal now is to group the data by city, apply the appropriate counting method during the apply stage, and then find the number of songs played in each group by specifying the column for the count.\n",
    "\n",
    "Here's an example of how the final result should look:\n",
    "df.groupby(by='....')['column'].method()\n",
    "\n",
    "To evaluate the activity of users in each city, I'll group the data by city and find the number of songs played in each group.\n"
   ]
  },
  {
   "cell_type": "code",
   "execution_count": 19,
   "metadata": {
    "id": "0_Qs96oh_Zcu"
   },
   "outputs": [
    {
     "name": "stdout",
     "output_type": "stream",
     "text": [
      "<pandas.core.groupby.generic.DataFrameGroupBy object at 0x16765cd50>\n",
      "\n",
      "\n",
      "             user_id  track  artist  genre   time    day\n",
      "city                                                    \n",
      "Shelbyville    18512  18512   18512  18512  18512  18512\n",
      "Springfield    42741  42741   42741  42741  42741  42741\n",
      "\n",
      "\n",
      "city\n",
      "Shelbyville    18512\n",
      "Springfield    42741\n",
      "Name: track, dtype: int64\n"
     ]
    }
   ],
   "source": [
    "print(df.groupby(by='city'))\n",
    "print()\n",
    "print()\n",
    "print(df.groupby(by='city').count())\n",
    "print()\n",
    "print()\n",
    "tracks_by_city = df.groupby(by='city')['track'].count()\n",
    "print(tracks_by_city)\n"
   ]
  },
  {
   "cell_type": "markdown",
   "metadata": {
    "id": "dzli3w8o_Zcu"
   },
   "source": [
    "Now let's group the data by day of the week and find the number of songs played on Monday, Wednesday, and Friday. Use the same method as before, but now we need a different grouping."
   ]
  },
  {
   "cell_type": "code",
   "execution_count": 20,
   "metadata": {
    "id": "uZMKjiJz_Zcu"
   },
   "outputs": [
    {
     "name": "stdout",
     "output_type": "stream",
     "text": [
      "day\n",
      "Monday       21354\n",
      "Wednesday    18059\n",
      "Friday       21840\n",
      "Name: track, dtype: int64\n"
     ]
    }
   ],
   "source": [
    "songs_by_day = df.groupby('day')['track'].count()\n",
    "\n",
    "three_days = songs_by_day.loc[['Monday', 'Wednesday', 'Friday']]\n",
    "\n",
    "print(three_days)"
   ]
  },
  {
   "cell_type": "markdown",
   "metadata": {
    "id": "POzs8bGa_Zcu"
   },
   "source": [
    "I know how to count entries by grouping them by city or day. Now I need to write a function that can count entries based on both criteria simultaneously.\n",
    "\n",
    "I'll create the number_tracks() function to calculate the number of songs played on a specific day and city. The function will accept two parameters:\n",
    "\n",
    "* day: A day of the week to filter by. For example, 'Monday'.\n",
    "* city: A city to filter by. For example, 'Springfield'.\n",
    "Within the function, I'll apply consecutive filtering with logical indexing.\n",
    "\n",
    "First, I'll filter the data by day and then filter the resulting table by city.\n",
    "\n",
    "After filtering the data by both criteria, I'll count the number of values in the 'user_id' column in the resulting table. This count represents the number of entries I'm looking for. I'll save the result in a new variable and return it from the function."
   ]
  },
  {
   "cell_type": "code",
   "execution_count": 21,
   "metadata": {
    "id": "Nz3GdQB1_Zcu"
   },
   "outputs": [],
   "source": [
    "# Declare the function number_tracks() with two parameters: day= and city=.\n",
    "def number_tracks(day, city):\n",
    "    \n",
    "# Store the rows of the DataFrame where the value in the 'day' column equals the day parameter\n",
    "    filtered_day = df[df['day'] == day]\n",
    "\n",
    "# Filter the rows where the value in the 'city' column equals the city parameter\n",
    "    filtered_city = filtered_day[filtered_day['city'] == city]\n",
    "    \n",
    "# Extract the 'user_id' column from the filtered table and apply the count() method\n",
    "    tracks_count = filtered_city['user_id'].count()\n",
    "\n",
    "# Return the number of values in the 'user_id' column\n",
    "    return tracks_count\n"
   ]
  },
  {
   "cell_type": "code",
   "execution_count": 22,
   "metadata": {
    "id": "rJcRATNQ_Zcu"
   },
   "outputs": [
    {
     "data": {
      "text/plain": [
       "15740"
      ]
     },
     "execution_count": 22,
     "metadata": {},
     "output_type": "execute_result"
    }
   ],
   "source": [
    "# The number of songs played in Springfield on Monday\n",
    "number_tracks('Monday', 'Springfield')\n"
   ]
  },
  {
   "cell_type": "code",
   "execution_count": 23,
   "metadata": {
    "id": "hq_ncZ5T_Zcu"
   },
   "outputs": [
    {
     "data": {
      "text/plain": [
       "5614"
      ]
     },
     "execution_count": 23,
     "metadata": {},
     "output_type": "execute_result"
    }
   ],
   "source": [
    "# The number of songs played in Shelbyville on Monday\n",
    "number_tracks('Monday', 'Shelbyville')\n"
   ]
  },
  {
   "cell_type": "code",
   "execution_count": 24,
   "metadata": {
    "id": "_NTy2VPU_Zcu"
   },
   "outputs": [
    {
     "data": {
      "text/plain": [
       "11056"
      ]
     },
     "execution_count": 24,
     "metadata": {},
     "output_type": "execute_result"
    }
   ],
   "source": [
    "# The number of songs played in Springfield on Wednesday\n",
    "number_tracks('Wednesday', 'Springfield')"
   ]
  },
  {
   "cell_type": "code",
   "execution_count": 25,
   "metadata": {
    "id": "j2y3TAwo_Zcu"
   },
   "outputs": [
    {
     "data": {
      "text/plain": [
       "7003"
      ]
     },
     "execution_count": 25,
     "metadata": {},
     "output_type": "execute_result"
    }
   ],
   "source": [
    "# The number of songs played in Shelbyville on Wednesday\n",
    "number_tracks('Wednesday', 'Shelbyville')\n"
   ]
  },
  {
   "cell_type": "code",
   "execution_count": 26,
   "metadata": {
    "id": "vYDw5u_K_Zcu"
   },
   "outputs": [
    {
     "data": {
      "text/plain": [
       "15945"
      ]
     },
     "execution_count": 26,
     "metadata": {},
     "output_type": "execute_result"
    }
   ],
   "source": [
    "# The number of songs played in Springfield on Friday\n",
    "number_tracks('Friday', 'Springfield')"
   ]
  },
  {
   "cell_type": "code",
   "execution_count": 27,
   "metadata": {
    "id": "8_yzFtW3_Zcu"
   },
   "outputs": [
    {
     "data": {
      "text/plain": [
       "5895"
      ]
     },
     "execution_count": 27,
     "metadata": {},
     "output_type": "execute_result"
    }
   ],
   "source": [
    "# The number of songs played in Shelbyville on Friday\n",
    "number_tracks('Friday', 'Shelbyville')"
   ]
  },
  {
   "cell_type": "markdown",
   "metadata": {
    "id": "-EgPIHYu_Zcu"
   },
   "source": [
    "**Conclusions**\n",
    "\n",
    "Based on the analysis conducted on this dataframe, let's review the results obtained.\n",
    "\n",
    "We have analyzed the activity of users in two different cities, Springfield and Shelbyville, over three days of the week: Monday, Wednesday, and Friday. For each combination of city and day of the week, we counted the number of songs played.\n",
    "\n",
    "When observing the differences in the number of songs played between the two cities for a specific day, and considering that these differences remain consistent across the three days analyzed, we can conclude that the hypothesis is partially valid. This suggests that the activity of users does differ based on both the city and the day of the week.\n",
    "\n",
    "However, the rigor of data analysis should not be conclusive to fully accept the hypothesis. We may need to conduct some form of exploratory data analysis. Here's an example:  "
   ]
  },
  {
   "cell_type": "code",
   "execution_count": 28,
   "metadata": {},
   "outputs": [
    {
     "data": {
      "image/png": "[encoded data removed]",
      "text/plain": [
       "<Figure size 1000x600 with 3 Axes>"
      ]
     },
     "metadata": {},
     "output_type": "display_data"
    }
   ],
   "source": [
    "import matplotlib.pyplot as plt\n",
    "\n",
    "# Filter data by day of the week and city\n",
    "shelbyville_data = df[(df['city'] == 'Shelbyville') & (df['day'].isin(['Monday', 'Wednesday', 'Friday']))]\n",
    "springfield_data = df[(df['city'] == 'Springfield') & (df['day'].isin(['Monday', 'Wednesday', 'Friday']))]\n",
    "\n",
    "# Get track counts for each city and day\n",
    "shelbyville_counts = shelbyville_data.groupby('day')['track'].count()\n",
    "springfield_counts = springfield_data.groupby('day')['track'].count()\n",
    "\n",
    "# Create bar charts to compare track counts\n",
    "plt.figure(figsize=(10, 6))\n",
    "\n",
    "# Monday\n",
    "plt.subplot(1, 3, 1)\n",
    "plt.bar(['Shelbyville', 'Springfield'], [shelbyville_counts['Monday'], springfield_counts['Monday']], color=['skyblue', 'orange'])\n",
    "plt.title('Monday')\n",
    "\n",
    "# Wednesday\n",
    "plt.subplot(1, 3, 2)\n",
    "plt.bar(['Shelbyville', 'Springfield'], [shelbyville_counts['Wednesday'], springfield_counts['Wednesday']], color=['skyblue', 'orange'])\n",
    "plt.title('Wednesday')\n",
    "\n",
    "# Friday\n",
    "plt.subplot(1, 3, 3)\n",
    "plt.bar(['Shelbyville', 'Springfield'], [shelbyville_counts['Friday'], springfield_counts['Friday']], color=['skyblue', 'orange'])\n",
    "plt.title('Friday')\n",
    "\n",
    "plt.tight_layout()\n",
    "plt.show()\n",
    "\n"
   ]
  },
  {
   "cell_type": "markdown",
   "metadata": {},
   "source": [
    "This is my personal attempt at conducting a comparative analysis showing the number of songs played on Monday, Wednesday, and Friday for the cities of Shelbyville and Springfield. In these bar charts, I present one chart for each day of the week, where the height of each bar represents the number of songs played.\n",
    "\n",
    "By observing the charts, we can make direct comparisons between Shelbyville and Springfield for each day of the week. For example, we can see if there are significant differences in the number of songs played between the two cities on a particular day.\n",
    "\n",
    "While this analysis is rudimentary, it helps us better understand how music listening behavior varies between the two cities on different days of the week, which can provide valuable insights for future marketing strategies or business decisions.\n",
    "\n",
    "If my analysis is unbiased due to appropriately written code, I could conclude that Springfield residents are more music enthusiasts than those in Shelbyville."
   ]
  },
  {
   "cell_type": "markdown",
   "metadata": {
    "id": "p7nFQajCVw5B"
   },
   "source": [
    "[Back to Contents](#back)"
   ]
  },
  {
   "cell_type": "markdown",
   "metadata": {
    "id": "ykKQ0N65_Zcv"
   },
   "source": [
    "# Conclusions <a id='end'></a>"
   ]
  },
  {
   "cell_type": "markdown",
   "metadata": {
    "id": "tjUwbHb3_Zcv"
   },
   "source": [
    "We have worked on a data analysis project focused on comparing music preferences between the cities of Springfield and Shelbyville based on the following hypothesis:\n",
    "\n",
    "* The activity of users differs depending on the day of the week and the city.\n",
    "\n",
    "The project was divided into several stages:\n",
    "\n",
    "* Data Description: We imported the data from a CSV file and conducted an initial exploration to understand its structure and content. We identified issues such as inconsistent column names, missing values, and duplicates.\n",
    "\n",
    "* Data Preprocessing: We addressed the issues identified in the previous stage by correcting column names, handling missing values, and removing duplicates.\n",
    "\n",
    "* Exploratory Data Analysis: We performed a more detailed analysis of the data to better understand the distributions and relationships between variables. We used a function to gather insights into listening habits of citizens from both cities on Mondays, Wednesdays, and Fridays. Personally, I proposed creating visualizations to explore these findings visually.\n",
    "\n",
    "Finally, we evaluated our initial hypothesis. Each step brought us closer to understanding the musical preferences of the two cities and allowed us to draw evidence-based conclusions.\n",
    "\n",
    "However, given the relatively informal analysis according to project specifications, I personally believe more evidence and rigorous analysis would be needed to fully support or reject the hypothesis.\n",
    "\n",
    "Therefore, since our results support the statement to some extent but not enough to fully accept it, our hypothesis will be accepted partially."
   ]
  },
  {
   "cell_type": "markdown",
   "metadata": {
    "id": "Ju4AHDSgV1FE"
   },
   "source": [
    "[Back to Contents](#back)"
   ]
  }
 ],
 "metadata": {
  "colab": {
   "collapsed_sections": [
    "E0vqbgi9ay0H",
    "VUC88oWjTJw2"
   ],
   "provenance": []
  },
  "kernelspec": {
   "display_name": "Python 3 (ipykernel)",
   "language": "python",
   "name": "python3"
  },
  "language_info": {
   "codemirror_mode": {
    "name": "ipython",
    "version": 3
   },
   "file_extension": ".py",
   "mimetype": "text/x-python",
   "name": "python",
   "nbconvert_exporter": "python",
   "pygments_lexer": "ipython3",
   "version": "3.11.4"
  },
  "toc": {
   "base_numbering": 1,
   "nav_menu": {},
   "number_sections": true,
   "sideBar": true,
   "skip_h1_title": true,
   "title_cell": "Table of Contents",
   "title_sidebar": "Contents",
   "toc_cell": false,
   "toc_position": {},
   "toc_section_display": true,
   "toc_window_display": false
  }
 },
 "nbformat": 4,
 "nbformat_minor": 1
}
